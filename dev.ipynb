{
 "cells": [
  {
   "cell_type": "code",
   "execution_count": 1,
   "metadata": {},
   "outputs": [],
   "source": [
    "from skilift import GTFS, get_stop_node, read_osm, get_elevations_for_nodes, get_graph_nodes, ElevationAwareStreetDataset"
   ]
  },
  {
   "cell_type": "code",
   "execution_count": 2,
   "metadata": {},
   "outputs": [],
   "source": [
    "import pandas as pd\n",
    "from zipfile import ZipFile\n",
    "from collections import defaultdict\n",
    "from typing import Dict, Set, Tuple, Iterable, Iterator, Any\n",
    "import numpy as np\n",
    "pd.set_option('display.max_columns', 100)\n",
    "pd.set_option('display.max_rows', 100)"
   ]
  },
  {
   "cell_type": "code",
   "execution_count": 3,
   "metadata": {},
   "outputs": [],
   "source": [
    "fn = \"/home/bmander/skilift_data/transit/redding.zip\"\n",
    "\n",
    "feed = GTFS(fn)"
   ]
  },
  {
   "cell_type": "code",
   "execution_count": 4,
   "metadata": {},
   "outputs": [
    {
     "data": {
      "text/plain": [
       "Timestamp('2023-04-19 13:00:00-0700', tz='America/Los_Angeles')"
      ]
     },
     "execution_count": 4,
     "metadata": {},
     "output_type": "execute_result"
    }
   ],
   "source": [
    "# get epoch time on Aptil 19, 2023 at 1:00pm pacific time\n",
    "t0 = pd.Timestamp(\"2023-04-19 13:00:00\", tz=\"America/Los_Angeles\")\n",
    "t0"
   ]
  },
  {
   "cell_type": "code",
   "execution_count": 5,
   "metadata": {},
   "outputs": [
    {
     "data": {
      "text/plain": [
       "AtStopNode(stop_id:2000, datetime:2023-04-19 13:00:00-07:00)"
      ]
     },
     "execution_count": 5,
     "metadata": {},
     "output_type": "execute_result"
    }
   ],
   "source": [
    "node0 = get_stop_node(feed, \"Downtown Transit Center\", t0)\n",
    "node0"
   ]
  },
  {
   "cell_type": "code",
   "execution_count": 6,
   "metadata": {},
   "outputs": [
    {
     "data": {
      "text/plain": [
       "DepartureNode(pattern_id:5, service_id:c_1658_b_18260_d_31, row:1, col:0, datetime:2023-04-19 14:25:00-07:00)"
      ]
     },
     "execution_count": 6,
     "metadata": {},
     "output_type": "execute_result"
    }
   ],
   "source": [
    "node0.outgoing[0].node"
   ]
  },
  {
   "cell_type": "code",
   "execution_count": 7,
   "metadata": {},
   "outputs": [
    {
     "data": {
      "text/plain": [
       "ArrivalNode(pattern_id:5, service_id:c_1658_b_18260_d_31, row:1, col:1, datetime:2023-04-19 14:35:00-07:00)"
      ]
     },
     "execution_count": 7,
     "metadata": {},
     "output_type": "execute_result"
    }
   ],
   "source": [
    "node0.outgoing[0].node.outgoing[0].node"
   ]
  },
  {
   "cell_type": "code",
   "execution_count": 8,
   "metadata": {},
   "outputs": [
    {
     "data": {
      "text/plain": [
       "[Edge(node=DepartureNode(pattern_id:5, service_id:c_1658_b_18260_d_31, row:1, col:1, datetime:2023-04-19 14:35:00-07:00), weight=0.0),\n",
       " Edge(node=AtStopNode(stop_id:8003, datetime:2023-04-19 14:35:00-07:00), weight=60.0)]"
      ]
     },
     "execution_count": 8,
     "metadata": {},
     "output_type": "execute_result"
    }
   ],
   "source": [
    "node0.outgoing[0].node.outgoing[0].node.outgoing"
   ]
  },
  {
   "cell_type": "code",
   "execution_count": 9,
   "metadata": {},
   "outputs": [],
   "source": [
    "osm_filename = \"/home/bmander/skilift_data/street/redding.pbf\"\n"
   ]
  },
  {
   "cell_type": "code",
   "execution_count": 10,
   "metadata": {},
   "outputs": [],
   "source": [
    "elev_geotiff_filename = \"/home/bmander/skilift_data/elevation/USGS_13_n41w123_20210624.tif\""
   ]
  },
  {
   "cell_type": "code",
   "execution_count": 11,
   "metadata": {},
   "outputs": [
    {
     "name": "stdout",
     "output_type": "stream",
     "text": [
      "Reading OSM file...done\n",
      "Indexing ways...done\n",
      "Getting node elevations...done\n",
      "Creating spatial index...done\n"
     ]
    }
   ],
   "source": [
    "elev_dataset = ElevationAwareStreetDataset(osm_filename, elev_geotiff_filename)"
   ]
  },
  {
   "cell_type": "code",
   "execution_count": 12,
   "metadata": {},
   "outputs": [
    {
     "data": {
      "text/plain": [
       "(40.58422925237579, -122.35866061888524)"
      ]
     },
     "execution_count": 12,
     "metadata": {},
     "output_type": "execute_result"
    }
   ],
   "source": [
    "nd_points = elev_dataset.nodes.values()\n",
    "lon = sum([x[0] for x in nd_points])/len(nd_points)\n",
    "lat = sum([x[1] for x in nd_points])/len(nd_points)\n",
    "lon, lat"
   ]
  },
  {
   "cell_type": "code",
   "execution_count": 13,
   "metadata": {},
   "outputs": [
    {
     "ename": "TypeError",
     "evalue": "'STRtree' object is not subscriptable",
     "output_type": "error",
     "traceback": [
      "\u001b[0;31m---------------------------------------------------------------------------\u001b[0m",
      "\u001b[0;31mTypeError\u001b[0m                                 Traceback (most recent call last)",
      "Cell \u001b[0;32mIn[13], line 1\u001b[0m\n\u001b[0;32m----> 1\u001b[0m elev_dataset\u001b[39m.\u001b[39;49mget_nearest_segment(lat, lon)\n",
      "File \u001b[0;32m~/skilift/skilift.py:1102\u001b[0m, in \u001b[0;36mElevationAwareStreetDataset.get_nearest_segment\u001b[0;34m(self, lat, lon, search_radius)\u001b[0m\n\u001b[1;32m   1094\u001b[0m i \u001b[39m=\u001b[39m np\u001b[39m.\u001b[39margmin(\n\u001b[1;32m   1095\u001b[0m     [\n\u001b[1;32m   1096\u001b[0m         \u001b[39mself\u001b[39m\u001b[39m.\u001b[39mway_segments[seg_ix]\u001b[39m.\u001b[39mdistance(query_pt)\n\u001b[1;32m   1097\u001b[0m         \u001b[39mfor\u001b[39;00m seg_ix \u001b[39min\u001b[39;00m \u001b[39mself\u001b[39m\u001b[39m.\u001b[39mway_segment_index\u001b[39m.\u001b[39mquery(search_area)\n\u001b[1;32m   1098\u001b[0m     ]\n\u001b[1;32m   1099\u001b[0m )\n\u001b[1;32m   1101\u001b[0m way_id, segment_index \u001b[39m=\u001b[39m \u001b[39mself\u001b[39m\u001b[39m.\u001b[39mway_segment_indices[i]\n\u001b[0;32m-> 1102\u001b[0m distance_along_segment \u001b[39m=\u001b[39m \u001b[39mself\u001b[39;49m\u001b[39m.\u001b[39;49mway_segment_index[i]\u001b[39m.\u001b[39mline_locate_point(\n\u001b[1;32m   1103\u001b[0m     query_pt, normalized\u001b[39m=\u001b[39m\u001b[39mTrue\u001b[39;00m\n\u001b[1;32m   1104\u001b[0m )\n\u001b[1;32m   1106\u001b[0m \u001b[39mreturn\u001b[39;00m way_id, segment_index, distance_along_segment\n",
      "\u001b[0;31mTypeError\u001b[0m: 'STRtree' object is not subscriptable"
     ]
    }
   ],
   "source": [
    "elev_dataset.get_nearest_segment(lat, lon)"
   ]
  },
  {
   "cell_type": "code",
   "execution_count": 14,
   "metadata": {},
   "outputs": [
    {
     "ename": "ValueError",
     "evalue": "attempt to get argmin of an empty sequence",
     "output_type": "error",
     "traceback": [
      "\u001b[0;31m---------------------------------------------------------------------------\u001b[0m",
      "\u001b[0;31mValueError\u001b[0m                                Traceback (most recent call last)",
      "Cell \u001b[0;32mIn[14], line 2\u001b[0m\n\u001b[1;32m      1\u001b[0m \u001b[39mimport\u001b[39;00m \u001b[39mnumpy\u001b[39;00m \u001b[39mas\u001b[39;00m \u001b[39mnp\u001b[39;00m\n\u001b[0;32m----> 2\u001b[0m np\u001b[39m.\u001b[39;49margmin([])\n",
      "File \u001b[0;32m<__array_function__ internals>:200\u001b[0m, in \u001b[0;36margmin\u001b[0;34m(*args, **kwargs)\u001b[0m\n",
      "File \u001b[0;32m~/skilift/venv/lib/python3.8/site-packages/numpy/core/fromnumeric.py:1338\u001b[0m, in \u001b[0;36margmin\u001b[0;34m(a, axis, out, keepdims)\u001b[0m\n\u001b[1;32m   1251\u001b[0m \u001b[39m\u001b[39m\u001b[39m\"\"\"\u001b[39;00m\n\u001b[1;32m   1252\u001b[0m \u001b[39mReturns the indices of the minimum values along an axis.\u001b[39;00m\n\u001b[1;32m   1253\u001b[0m \n\u001b[0;32m   (...)\u001b[0m\n\u001b[1;32m   1335\u001b[0m \u001b[39m(2, 1, 4)\u001b[39;00m\n\u001b[1;32m   1336\u001b[0m \u001b[39m\"\"\"\u001b[39;00m\n\u001b[1;32m   1337\u001b[0m kwds \u001b[39m=\u001b[39m {\u001b[39m'\u001b[39m\u001b[39mkeepdims\u001b[39m\u001b[39m'\u001b[39m: keepdims} \u001b[39mif\u001b[39;00m keepdims \u001b[39mis\u001b[39;00m \u001b[39mnot\u001b[39;00m np\u001b[39m.\u001b[39m_NoValue \u001b[39melse\u001b[39;00m {}\n\u001b[0;32m-> 1338\u001b[0m \u001b[39mreturn\u001b[39;00m _wrapfunc(a, \u001b[39m'\u001b[39;49m\u001b[39margmin\u001b[39;49m\u001b[39m'\u001b[39;49m, axis\u001b[39m=\u001b[39;49maxis, out\u001b[39m=\u001b[39;49mout, \u001b[39m*\u001b[39;49m\u001b[39m*\u001b[39;49mkwds)\n",
      "File \u001b[0;32m~/skilift/venv/lib/python3.8/site-packages/numpy/core/fromnumeric.py:54\u001b[0m, in \u001b[0;36m_wrapfunc\u001b[0;34m(obj, method, *args, **kwds)\u001b[0m\n\u001b[1;32m     52\u001b[0m bound \u001b[39m=\u001b[39m \u001b[39mgetattr\u001b[39m(obj, method, \u001b[39mNone\u001b[39;00m)\n\u001b[1;32m     53\u001b[0m \u001b[39mif\u001b[39;00m bound \u001b[39mis\u001b[39;00m \u001b[39mNone\u001b[39;00m:\n\u001b[0;32m---> 54\u001b[0m     \u001b[39mreturn\u001b[39;00m _wrapit(obj, method, \u001b[39m*\u001b[39;49margs, \u001b[39m*\u001b[39;49m\u001b[39m*\u001b[39;49mkwds)\n\u001b[1;32m     56\u001b[0m \u001b[39mtry\u001b[39;00m:\n\u001b[1;32m     57\u001b[0m     \u001b[39mreturn\u001b[39;00m bound(\u001b[39m*\u001b[39margs, \u001b[39m*\u001b[39m\u001b[39m*\u001b[39mkwds)\n",
      "File \u001b[0;32m~/skilift/venv/lib/python3.8/site-packages/numpy/core/fromnumeric.py:43\u001b[0m, in \u001b[0;36m_wrapit\u001b[0;34m(obj, method, *args, **kwds)\u001b[0m\n\u001b[1;32m     41\u001b[0m \u001b[39mexcept\u001b[39;00m \u001b[39mAttributeError\u001b[39;00m:\n\u001b[1;32m     42\u001b[0m     wrap \u001b[39m=\u001b[39m \u001b[39mNone\u001b[39;00m\n\u001b[0;32m---> 43\u001b[0m result \u001b[39m=\u001b[39m \u001b[39mgetattr\u001b[39;49m(asarray(obj), method)(\u001b[39m*\u001b[39;49margs, \u001b[39m*\u001b[39;49m\u001b[39m*\u001b[39;49mkwds)\n\u001b[1;32m     44\u001b[0m \u001b[39mif\u001b[39;00m wrap:\n\u001b[1;32m     45\u001b[0m     \u001b[39mif\u001b[39;00m \u001b[39mnot\u001b[39;00m \u001b[39misinstance\u001b[39m(result, mu\u001b[39m.\u001b[39mndarray):\n",
      "\u001b[0;31mValueError\u001b[0m: attempt to get argmin of an empty sequence"
     ]
    }
   ],
   "source": [
    "import numpy as np\n",
    "np.argmin([])"
   ]
  },
  {
   "cell_type": "code",
   "execution_count": 12,
   "metadata": {},
   "outputs": [],
   "source": [
    "from shapely.strtree import STRtree\n",
    "from shapely.geometry import Point, LineString"
   ]
  },
  {
   "cell_type": "code",
   "execution_count": 13,
   "metadata": {},
   "outputs": [],
   "source": [
    "def geodesic_distance_meters(geo_pt: Point, geo_pt2: Point) -> float:\n",
    "    \"\"\"Compute the geodesic distance in meters between two points on the earth's surface.\n",
    "    \"\"\"\n",
    "\n",
    "    # TODO: this can be vectorized if it ever becomes a bottleneck\n",
    "\n",
    "    # convert decimal degrees to radians\n",
    "    lon1, lat1, lon2, lat2 = map(np.radians, [geo_pt.x, geo_pt.y, geo_pt2.x, geo_pt2.y])\n",
    "\n",
    "    # haversine formula\n",
    "    dlon = lon2 - lon1\n",
    "    dlat = lat2 - lat1\n",
    "    a = np.sin(dlat/2)**2 + np.cos(lat1) * np.cos(lat2) * np.sin(dlon/2)**2\n",
    "    c = 2 * np.arcsin(np.sqrt(a))\n",
    "\n",
    "    earth_radius_km = 6371\n",
    "    km = earth_radius_km * c\n",
    "    return km * 1000"
   ]
  },
  {
   "cell_type": "code",
   "execution_count": 14,
   "metadata": {},
   "outputs": [],
   "source": [
    "nd_points = [Point(lon, lat) for lon, lat in elev_dataset.nodes.values()]"
   ]
  },
  {
   "cell_type": "code",
   "execution_count": 15,
   "metadata": {},
   "outputs": [],
   "source": [
    "tree = STRtree( nd_points )"
   ]
  },
  {
   "cell_type": "code",
   "execution_count": 17,
   "metadata": {},
   "outputs": [
    {
     "name": "stdout",
     "output_type": "stream",
     "text": [
      "33.586155638010396\n",
      "30.45918994893321\n",
      "30.448305567346534\n",
      "30.984222752860745\n",
      "19.906777976196068\n"
     ]
    }
   ],
   "source": [
    "for nd_ix in tree.query(avg.buffer(0.0003)):\n",
    "    pt = nd_points[nd_ix]\n",
    "\n",
    "    # find distance in meters between geographical points\n",
    "    dist = geodesic_distance_meters(avg, pt)\n",
    "    print(dist)"
   ]
  },
  {
   "cell_type": "code",
   "execution_count": 18,
   "metadata": {},
   "outputs": [],
   "source": [
    "def cons(ary: Iterable) -> Iterator[Tuple[Any, Any]]:\n",
    "    \"\"\"Return a generator of consecutive pairs from the input iterable.\"\"\"\n",
    "    it = iter(ary)\n",
    "    prev = next(it)\n",
    "    for item in it:\n",
    "        yield prev, item\n",
    "        prev = item\n",
    "\n",
    "way_segments = []\n",
    "for way_id, way in elev_dataset.ways.items():\n",
    "    for i, (nd1, nd2) in enumerate(cons(way.nds)):\n",
    "        pt1 = elev_dataset.nodes[nd1]\n",
    "        pt2 = elev_dataset.nodes[nd2]\n",
    "\n",
    "        segment = LineString([pt1, pt2])\n",
    "\n",
    "        way_segments.append( (way_id, i, segment) )\n"
   ]
  },
  {
   "cell_type": "code",
   "execution_count": 19,
   "metadata": {},
   "outputs": [],
   "source": [
    "way_segments_index = STRtree([seg[2] for seg in way_segments])"
   ]
  },
  {
   "cell_type": "code",
   "execution_count": 20,
   "metadata": {},
   "outputs": [
    {
     "name": "stdout",
     "output_type": "stream",
     "text": [
      "10557590 13 0.18715448062975482\n"
     ]
    }
   ],
   "source": [
    "dists = []\n",
    "\n",
    "for ix in way_segments_index.query(avg.buffer(0.0003)):\n",
    "    way_id, i, segment = way_segments[ix]\n",
    "\n",
    "    way_segment_dist = segment.distance(avg)\n",
    "\n",
    "    dists.append( (ix, way_segment_dist) )\n",
    "\n",
    "closest_ix = min( dists, key=lambda x: x[1] )[0]\n",
    "\n",
    "way_id, i, segment = way_segments[closest_ix]\n",
    "linear_ref = segment.line_locate_point(avg, normalized=True)\n",
    "print(way_id, i, linear_ref)\n"
   ]
  },
  {
   "cell_type": "code",
   "execution_count": null,
   "metadata": {},
   "outputs": [],
   "source": []
  }
 ],
 "metadata": {
  "kernelspec": {
   "display_name": "venv",
   "language": "python",
   "name": "python3"
  },
  "language_info": {
   "codemirror_mode": {
    "name": "ipython",
    "version": 3
   },
   "file_extension": ".py",
   "mimetype": "text/x-python",
   "name": "python",
   "nbconvert_exporter": "python",
   "pygments_lexer": "ipython3",
   "version": "3.8.10"
  },
  "orig_nbformat": 4
 },
 "nbformat": 4,
 "nbformat_minor": 2
}
