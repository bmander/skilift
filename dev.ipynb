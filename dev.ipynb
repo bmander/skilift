{
 "cells": [
  {
   "cell_type": "code",
   "execution_count": 4,
   "metadata": {},
   "outputs": [],
   "source": [
    "from skilift import GTFS, TransitGraph, OpenStreetMap, get_elevations_for_nodes"
   ]
  },
  {
   "cell_type": "code",
   "execution_count": 5,
   "metadata": {},
   "outputs": [],
   "source": [
    "import pandas as pd\n",
    "from zipfile import ZipFile\n",
    "from collections import defaultdict\n",
    "from typing import Dict, Set\n",
    "import numpy as np\n",
    "pd.set_option('display.max_columns', 100)\n",
    "pd.set_option('display.max_rows', 100)"
   ]
  },
  {
   "cell_type": "code",
   "execution_count": 6,
   "metadata": {},
   "outputs": [],
   "source": [
    "fn = \"/home/bmander/skilift_data/transit/redding.zip\"\n",
    "\n",
    "graph = TransitGraph.load(fn)"
   ]
  },
  {
   "cell_type": "code",
   "execution_count": 8,
   "metadata": {},
   "outputs": [
    {
     "data": {
      "text/plain": [
       "Timestamp('2023-04-19 13:00:00-0700', tz='America/Los_Angeles')"
      ]
     },
     "execution_count": 8,
     "metadata": {},
     "output_type": "execute_result"
    }
   ],
   "source": [
    "# get epoch time on Aptil 19, 2023 at 1:00pm pacific time\n",
    "t0 = pd.Timestamp(\"2023-04-19 13:00:00\", tz=\"America/Los_Angeles\")\n",
    "t0"
   ]
  },
  {
   "cell_type": "code",
   "execution_count": 9,
   "metadata": {},
   "outputs": [
    {
     "data": {
      "text/plain": [
       "AtStopNode(stop_id:2000, datetime:2023-04-19 13:00:00-07:00)"
      ]
     },
     "execution_count": 9,
     "metadata": {},
     "output_type": "execute_result"
    }
   ],
   "source": [
    "node0 = graph.get_stop_node(\"Downtown Transit Center\", t0)\n",
    "node0"
   ]
  },
  {
   "cell_type": "code",
   "execution_count": 10,
   "metadata": {},
   "outputs": [
    {
     "data": {
      "text/plain": [
       "DepartureNode(pattern_id:5, service_id:c_1658_b_18260_d_31, row:1, col:0, datetime:2023-04-19 14:25:00-07:00)"
      ]
     },
     "execution_count": 10,
     "metadata": {},
     "output_type": "execute_result"
    }
   ],
   "source": [
    "node0.outgoing[0].node"
   ]
  },
  {
   "cell_type": "code",
   "execution_count": 11,
   "metadata": {},
   "outputs": [
    {
     "data": {
      "text/plain": [
       "ArrivalNode(pattern_id:5, service_id:c_1658_b_18260_d_31, row:1, col:1, datetime:2023-04-19 14:35:00-07:00)"
      ]
     },
     "execution_count": 11,
     "metadata": {},
     "output_type": "execute_result"
    }
   ],
   "source": [
    "node0.outgoing[0].node.outgoing[0].node"
   ]
  },
  {
   "cell_type": "code",
   "execution_count": 12,
   "metadata": {},
   "outputs": [
    {
     "data": {
      "text/plain": [
       "[Edge(node=DepartureNode(pattern_id:5, service_id:c_1658_b_18260_d_31, row:1, col:1, datetime:2023-04-19 14:35:00-07:00), weight=0.0),\n",
       " Edge(node=AtStopNode(stop_id:8003, datetime:2023-04-19 14:35:00-07:00), weight=60.0)]"
      ]
     },
     "execution_count": 12,
     "metadata": {},
     "output_type": "execute_result"
    }
   ],
   "source": [
    "node0.outgoing[0].node.outgoing[0].node.outgoing"
   ]
  },
  {
   "cell_type": "code",
   "execution_count": 173,
   "metadata": {},
   "outputs": [],
   "source": [
    "import osmium\n",
    "\n"
   ]
  },
  {
   "cell_type": "code",
   "execution_count": 174,
   "metadata": {},
   "outputs": [],
   "source": [
    "import typing\n",
    "class Way(typing.NamedTuple):\n",
    "    nds: typing.List[int]\n",
    "    tags: typing.Dict[str, str]\n",
    "\n",
    "def read_osm(filename):\n",
    "    \"\"\"\n",
    "    Read an OSM file and return a dictionary of nodes and ways.\n",
    "    \"\"\"\n",
    "    nodes = {}\n",
    "    ways = {}\n",
    "\n",
    "    class NodeHandler(osmium.SimpleHandler):\n",
    "        def __init__(self):\n",
    "            super(NodeHandler, self).__init__()\n",
    "\n",
    "        def node(self, n):\n",
    "            nodes[n.id] = (n.location.lat, n.location.lon)\n",
    "\n",
    "    class HighwayHandler(osmium.SimpleHandler):\n",
    "        def __init__(self):\n",
    "            super(HighwayHandler, self).__init__()\n",
    "\n",
    "        def way(self, w):\n",
    "            if 'highway' not in w.tags:\n",
    "                return\n",
    "\n",
    "            nds = [n.ref for n in w.nodes]\n",
    "            tags = dict(w.tags)\n",
    "\n",
    "            ways[w.id] = Way(nds, tags)\n",
    "\n",
    "    h = HighwayHandler()\n",
    "    h.apply_file(filename)\n",
    "\n",
    "    n = NodeHandler()\n",
    "    n.apply_file(filename)\n",
    "\n",
    "    return nodes, ways\n",
    "\n",
    "        "
   ]
  },
  {
   "cell_type": "code",
   "execution_count": 175,
   "metadata": {},
   "outputs": [],
   "source": [
    "osm_filename = \"/home/bmander/skilift_data/street/redding.pbf\""
   ]
  },
  {
   "cell_type": "code",
   "execution_count": 176,
   "metadata": {},
   "outputs": [],
   "source": [
    "nodes, ways = read_osm(osm_filename)"
   ]
  },
  {
   "cell_type": "code",
   "execution_count": 177,
   "metadata": {},
   "outputs": [],
   "source": [
    "from collections import Counter\n",
    "def get_graph_nodes(ways: Dict[int, Dict]) -> Set[int]:\n",
    "    \"\"\"Get all the graph nodes from the ways. The graph nodes are the nodes\n",
    "    that are used more than once, or they are the start or end node of a street.\n",
    "\n",
    "    Args:\n",
    "        ways (Dict): A dictionary of ways.\n",
    "\n",
    "    Returns:\n",
    "        Set: A set of graph nodes.\n",
    "    \"\"\"\n",
    "\n",
    "    graph_nodes = set()\n",
    "\n",
    "    node_count = Counter()\n",
    "    for way in ways.values():\n",
    "        if len(way.nds) < 2:\n",
    "            continue\n",
    "\n",
    "        # add the start and end nodes\n",
    "        graph_nodes.add(way.nds[0])\n",
    "        graph_nodes.add(way.nds[-1])\n",
    "\n",
    "        # count the number of times a node appears\n",
    "        node_count.update(way.nds)\n",
    "\n",
    "    # get all nodes that appear more than once\n",
    "    intersection_nodes = set(node for node, count in node_count.items() if count > 1)\n",
    "    graph_nodes = graph_nodes.union(intersection_nodes)\n",
    "\n",
    "    return graph_nodes\n",
    "\n",
    "    \n"
   ]
  },
  {
   "cell_type": "code",
   "execution_count": 178,
   "metadata": {},
   "outputs": [],
   "source": [
    "graph_nodes = get_graph_nodes(ways)"
   ]
  },
  {
   "cell_type": "code",
   "execution_count": 256,
   "metadata": {},
   "outputs": [
    {
     "name": "stdout",
     "output_type": "stream",
     "text": [
      "Reading raster file...done.\n"
     ]
    }
   ],
   "source": [
    "from math import floor\n",
    "import rasterio as rio\n",
    "\n",
    "def interpolate(A, i, j):\n",
    "    \"\"\"Bilinear interpolation.\n",
    "\n",
    "    Args:\n",
    "        A (np.ndarray): A 2x2 array of values.\n",
    "        i (float): The fractional row.\n",
    "        j (float): The fractional column.\n",
    "    \n",
    "    Returns:\n",
    "        float: The interpolated value.\"\"\"\n",
    "    \n",
    "    baseline = A[0]*(1-i) + A[1]*i\n",
    "    return baseline[0]*(1-j) + baseline[1]*j\n",
    "\n",
    "node_elevs = {}\n",
    "with rio.open(\"/home/bmander/skilift_data/elevation/USGS_13_n41w123_20210624.tif\") as src:\n",
    "\n",
    "    print(\"Reading raster file...\", end=\"\")\n",
    "    elevs = src.read(1) # read the first band\n",
    "    print(\"done.\")\n",
    "\n",
    "    for node, (lat,lon) in nodes.items():\n",
    "        # get the elevation at the node\n",
    "        # apply the transform to get the fractional row and column\n",
    "        row, col = src.index(lon, lat, op=lambda x:x)\n",
    "\n",
    "        if row < 0 or col < 0 or row >= src.height or col >= src.width:\n",
    "            node_elevs[node] = None\n",
    "            continue\n",
    "        \n",
    "        # read a small window around the point\n",
    "        row_floor = floor(row)\n",
    "        col_floor = floor(col)\n",
    "        elevs_window = elevs[row_floor:row_floor+2, col_floor:col_floor+2]\n",
    "\n",
    "        # interpolate the elevation\n",
    "        row_frac = row - row_floor\n",
    "        col_frac = col - col_floor\n",
    "        elev = interpolate(elevs_window, row_frac, col_frac)\n",
    "\n",
    "        node_elevs[node] = elev\n"
   ]
  },
  {
   "cell_type": "code",
   "execution_count": null,
   "metadata": {},
   "outputs": [],
   "source": []
  }
 ],
 "metadata": {
  "kernelspec": {
   "display_name": "venv",
   "language": "python",
   "name": "python3"
  },
  "language_info": {
   "codemirror_mode": {
    "name": "ipython",
    "version": 3
   },
   "file_extension": ".py",
   "mimetype": "text/x-python",
   "name": "python",
   "nbconvert_exporter": "python",
   "pygments_lexer": "ipython3",
   "version": "3.8.10"
  },
  "orig_nbformat": 4
 },
 "nbformat": 4,
 "nbformat_minor": 2
}
