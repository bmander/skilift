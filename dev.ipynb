{
 "cells": [
  {
   "cell_type": "code",
   "execution_count": 1,
   "metadata": {},
   "outputs": [],
   "source": [
    "from skilift import GTFS, TransitGraph, Node, Edge"
   ]
  },
  {
   "cell_type": "code",
   "execution_count": 2,
   "metadata": {},
   "outputs": [],
   "source": [
    "import pandas as pd\n",
    "from zipfile import ZipFile\n",
    "from collections import defaultdict\n",
    "from typing import Dict, Set\n",
    "import numpy as np\n",
    "pd.set_option('display.max_columns', 100)\n",
    "pd.set_option('display.max_rows', 100)"
   ]
  },
  {
   "cell_type": "code",
   "execution_count": 3,
   "metadata": {},
   "outputs": [],
   "source": [
    "fn = \"/home/bmander/skilift_data/transit/redding.zip\"\n",
    "\n",
    "graph = TransitGraph.load(fn)"
   ]
  },
  {
   "cell_type": "code",
   "execution_count": 4,
   "metadata": {},
   "outputs": [
    {
     "data": {
      "text/plain": [
       "(0, 70200)"
      ]
     },
     "execution_count": 4,
     "metadata": {},
     "output_type": "execute_result"
    }
   ],
   "source": [
    "graph.feed.day_start, graph.feed.day_end"
   ]
  },
  {
   "cell_type": "code",
   "execution_count": 5,
   "metadata": {},
   "outputs": [
    {
     "data": {
      "text/plain": [
       "Timestamp('2023-04-19 13:00:00-0700', tz='America/Los_Angeles')"
      ]
     },
     "execution_count": 5,
     "metadata": {},
     "output_type": "execute_result"
    }
   ],
   "source": [
    "# get epoch time on Aptil 19, 2023 at 1:00pm pacific time\n",
    "t0 = pd.Timestamp(\"2023-04-19 13:00:00\", tz=\"America/Los_Angeles\")\n",
    "t0"
   ]
  },
  {
   "cell_type": "code",
   "execution_count": 6,
   "metadata": {},
   "outputs": [
    {
     "data": {
      "text/plain": [
       "2000"
      ]
     },
     "execution_count": 6,
     "metadata": {},
     "output_type": "execute_result"
    }
   ],
   "source": [
    "stop_id = graph.feed.stops_with_name(\"Downtown Transit Center\").iloc[0].stop_id\n",
    "stop_id"
   ]
  },
  {
   "cell_type": "code",
   "execution_count": 7,
   "metadata": {},
   "outputs": [
    {
     "data": {
      "text/plain": [
       "{3, 4, 5, 6, 7, 8, 9, 10, 11, 12, 13, 14, 17, 18, 23, 24, 25, 26, 27, 28}"
      ]
     },
     "execution_count": 7,
     "metadata": {},
     "output_type": "execute_result"
    }
   ],
   "source": [
    "pattern_ids = graph.feed.stop_pattern_ids[stop_id]\n",
    "pattern_ids"
   ]
  },
  {
   "cell_type": "code",
   "execution_count": 8,
   "metadata": {},
   "outputs": [
    {
     "data": {
      "text/plain": [
       "{'c_1658_b_18260_d_31',\n",
       " 'c_1658_b_18260_d_63',\n",
       " 'c_868_b_79977_d_30',\n",
       " 'c_868_b_79977_d_31'}"
      ]
     },
     "execution_count": 8,
     "metadata": {},
     "output_type": "execute_result"
    }
   ],
   "source": [
    "service_ids = graph.feed.get_service_ids(t0.date())\n",
    "service_ids"
   ]
  },
  {
   "cell_type": "code",
   "execution_count": 9,
   "metadata": {},
   "outputs": [
    {
     "data": {
      "text/plain": [
       "[TimetableEvent(pattern_id=5, service_id='c_1658_b_18260_d_31', row=1, col=0, datetime=Timestamp('2023-04-19 14:25:00-0700', tz='America/Los_Angeles')),\n",
       " TimetableEvent(pattern_id=8, service_id='c_1658_b_18260_d_31', row=7, col=0, datetime=Timestamp('2023-04-19 13:20:00-0700', tz='America/Los_Angeles')),\n",
       " TimetableEvent(pattern_id=9, service_id='c_1658_b_18260_d_31', row=7, col=0, datetime=Timestamp('2023-04-19 13:20:00-0700', tz='America/Los_Angeles')),\n",
       " TimetableEvent(pattern_id=10, service_id='c_1658_b_18260_d_31', row=7, col=16, datetime=Timestamp('2023-04-19 13:50:00-0700', tz='America/Los_Angeles')),\n",
       " TimetableEvent(pattern_id=11, service_id='c_1658_b_18260_d_31', row=3, col=0, datetime=Timestamp('2023-04-19 13:50:00-0700', tz='America/Los_Angeles')),\n",
       " TimetableEvent(pattern_id=12, service_id='c_1658_b_18260_d_31', row=4, col=0, datetime=Timestamp('2023-04-19 14:50:00-0700', tz='America/Los_Angeles')),\n",
       " TimetableEvent(pattern_id=13, service_id='c_1658_b_18260_d_31', row=7, col=0, datetime=Timestamp('2023-04-19 13:20:00-0700', tz='America/Los_Angeles')),\n",
       " TimetableEvent(pattern_id=17, service_id='c_1658_b_18260_d_31', row=7, col=0, datetime=Timestamp('2023-04-19 13:20:00-0700', tz='America/Los_Angeles')),\n",
       " TimetableEvent(pattern_id=23, service_id='c_1658_b_18260_d_31', row=6, col=0, datetime=Timestamp('2023-04-19 13:20:00-0700', tz='America/Los_Angeles')),\n",
       " TimetableEvent(pattern_id=26, service_id='c_1658_b_18260_d_31', row=8, col=0, datetime=Timestamp('2023-04-19 15:05:00-0700', tz='America/Los_Angeles'))]"
      ]
     },
     "execution_count": 9,
     "metadata": {},
     "output_type": "execute_result"
    }
   ],
   "source": [
    "events = graph.feed.find_stop_events(stop_id, t0)\n",
    "events"
   ]
  },
  {
   "cell_type": "code",
   "execution_count": 10,
   "metadata": {},
   "outputs": [
    {
     "data": {
      "text/plain": [
       "[Edge(node=Node(type='departing', body=(5, 'c_1658_b_18260_d_31', 1, 0, Timestamp('2023-04-19 14:25:00-0700', tz='America/Los_Angeles'))), weight=5100.0),\n",
       " Edge(node=Node(type='departing', body=(8, 'c_1658_b_18260_d_31', 7, 0, Timestamp('2023-04-19 13:20:00-0700', tz='America/Los_Angeles'))), weight=1200.0),\n",
       " Edge(node=Node(type='departing', body=(9, 'c_1658_b_18260_d_31', 7, 0, Timestamp('2023-04-19 13:20:00-0700', tz='America/Los_Angeles'))), weight=1200.0),\n",
       " Edge(node=Node(type='departing', body=(10, 'c_1658_b_18260_d_31', 7, 16, Timestamp('2023-04-19 13:50:00-0700', tz='America/Los_Angeles'))), weight=3000.0),\n",
       " Edge(node=Node(type='departing', body=(11, 'c_1658_b_18260_d_31', 3, 0, Timestamp('2023-04-19 13:50:00-0700', tz='America/Los_Angeles'))), weight=3000.0),\n",
       " Edge(node=Node(type='departing', body=(12, 'c_1658_b_18260_d_31', 4, 0, Timestamp('2023-04-19 14:50:00-0700', tz='America/Los_Angeles'))), weight=6600.0),\n",
       " Edge(node=Node(type='departing', body=(13, 'c_1658_b_18260_d_31', 7, 0, Timestamp('2023-04-19 13:20:00-0700', tz='America/Los_Angeles'))), weight=1200.0),\n",
       " Edge(node=Node(type='departing', body=(17, 'c_1658_b_18260_d_31', 7, 0, Timestamp('2023-04-19 13:20:00-0700', tz='America/Los_Angeles'))), weight=1200.0),\n",
       " Edge(node=Node(type='departing', body=(23, 'c_1658_b_18260_d_31', 6, 0, Timestamp('2023-04-19 13:20:00-0700', tz='America/Los_Angeles'))), weight=1200.0),\n",
       " Edge(node=Node(type='departing', body=(26, 'c_1658_b_18260_d_31', 8, 0, Timestamp('2023-04-19 15:05:00-0700', tz='America/Los_Angeles'))), weight=7500.0)]"
      ]
     },
     "execution_count": 10,
     "metadata": {},
     "output_type": "execute_result"
    }
   ],
   "source": [
    "node0 = Node(type=\"at_stop\", body=(stop_id, t0))\n",
    "edges = graph.adjacent_forward(node0)\n",
    "edges"
   ]
  },
  {
   "cell_type": "code",
   "execution_count": 11,
   "metadata": {},
   "outputs": [
    {
     "data": {
      "text/plain": [
       "Node(type='departing', body=(5, 'c_1658_b_18260_d_31', 1, 0, Timestamp('2023-04-19 14:25:00-0700', tz='America/Los_Angeles')))"
      ]
     },
     "execution_count": 11,
     "metadata": {},
     "output_type": "execute_result"
    }
   ],
   "source": [
    "node1, weight = edges[0]\n",
    "node1"
   ]
  },
  {
   "cell_type": "code",
   "execution_count": 12,
   "metadata": {},
   "outputs": [
    {
     "data": {
      "text/plain": [
       "Edge(node=Node(type='arriving', body=(5, 'c_1658_b_18260_d_31', 1, 1, Timestamp('2023-04-19 14:35:00-0700', tz='America/Los_Angeles'))), weight=600.0)"
      ]
     },
     "execution_count": 12,
     "metadata": {},
     "output_type": "execute_result"
    }
   ],
   "source": [
    "edge = graph.adjacent_forward(node1)[0]\n",
    "edge"
   ]
  },
  {
   "cell_type": "code",
   "execution_count": 13,
   "metadata": {},
   "outputs": [],
   "source": [
    "node2 = edge.node"
   ]
  },
  {
   "cell_type": "code",
   "execution_count": 14,
   "metadata": {},
   "outputs": [
    {
     "data": {
      "text/plain": [
       "[Edge(node=Node(type='departing', body=(5, 'c_1658_b_18260_d_31', 1, 1, Timestamp('2023-04-19 14:35:00-0700', tz='America/Los_Angeles'))), weight=0.0),\n",
       " Edge(node=Node(type='at_stop', body=(8003, Timestamp('2023-04-19 14:35:00-0700', tz='America/Los_Angeles'))), weight=60.0)]"
      ]
     },
     "execution_count": 14,
     "metadata": {},
     "output_type": "execute_result"
    }
   ],
   "source": [
    "graph.adjacent_forward(node2)"
   ]
  },
  {
   "cell_type": "code",
   "execution_count": null,
   "metadata": {},
   "outputs": [],
   "source": []
  }
 ],
 "metadata": {
  "kernelspec": {
   "display_name": "venv",
   "language": "python",
   "name": "python3"
  },
  "language_info": {
   "codemirror_mode": {
    "name": "ipython",
    "version": 3
   },
   "file_extension": ".py",
   "mimetype": "text/x-python",
   "name": "python",
   "nbconvert_exporter": "python",
   "pygments_lexer": "ipython3",
   "version": "3.8.10"
  },
  "orig_nbformat": 4
 },
 "nbformat": 4,
 "nbformat_minor": 2
}
