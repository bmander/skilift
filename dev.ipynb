{
 "cells": [
  {
   "cell_type": "code",
   "execution_count": 16,
   "metadata": {},
   "outputs": [],
   "source": [
    "from skilift import GTFSFeed, get_stop_node, read_osm, get_elevations_for_nodes, \\\n",
    "get_graph_nodes, ElevationAwareStreetDataset, OnEarthSurfaceNode, TransitEdgeProvider, StreetEdgeProvider"
   ]
  },
  {
   "cell_type": "code",
   "execution_count": 2,
   "metadata": {},
   "outputs": [],
   "source": [
    "import pandas as pd\n",
    "from zipfile import ZipFile\n",
    "from collections import defaultdict\n",
    "from typing import Dict, Set, Tuple, Iterable, Iterator, Any\n",
    "import numpy as np\n",
    "from shapely.geometry import Point, LineString, MultiLineString\n",
    "pd.set_option('display.max_columns', 100)\n",
    "pd.set_option('display.max_rows', 100)"
   ]
  },
  {
   "cell_type": "code",
   "execution_count": 3,
   "metadata": {},
   "outputs": [],
   "source": [
    "fn = \"/home/bmander/skilift_data/transit/redding.zip\"\n",
    "\n",
    "feed = GTFSFeed(fn)\n",
    "transit_edge_provider = TransitEdgeProvider(feed)"
   ]
  },
  {
   "cell_type": "code",
   "execution_count": 4,
   "metadata": {},
   "outputs": [
    {
     "data": {
      "text/plain": [
       "Timestamp('2023-04-19 13:00:00-0700', tz='America/Los_Angeles')"
      ]
     },
     "execution_count": 4,
     "metadata": {},
     "output_type": "execute_result"
    }
   ],
   "source": [
    "# get epoch time on Aptil 19, 2023 at 1:00pm pacific time\n",
    "t0 = pd.Timestamp(\"2023-04-19 13:00:00\", tz=\"America/Los_Angeles\")\n",
    "t0"
   ]
  },
  {
   "cell_type": "code",
   "execution_count": 5,
   "metadata": {},
   "outputs": [
    {
     "data": {
      "text/plain": [
       "AtStopNode(stop_id:2000, datetime:2023-04-19 13:00:00-07:00)"
      ]
     },
     "execution_count": 5,
     "metadata": {},
     "output_type": "execute_result"
    }
   ],
   "source": [
    "node0 = get_stop_node(feed, \"Downtown Transit Center\", t0)\n",
    "node0"
   ]
  },
  {
   "cell_type": "code",
   "execution_count": 8,
   "metadata": {},
   "outputs": [
    {
     "data": {
      "text/plain": [
       "DepartureNode(pattern_id:5, service_id:c_1658_b_18260_d_31, row:1, col:0, datetime:2023-04-19 14:25:00-07:00)"
      ]
     },
     "execution_count": 8,
     "metadata": {},
     "output_type": "execute_result"
    }
   ],
   "source": [
    "node1 = transit_edge_provider.outgoing(node0)[0].node\n",
    "node1"
   ]
  },
  {
   "cell_type": "code",
   "execution_count": 9,
   "metadata": {},
   "outputs": [
    {
     "data": {
      "text/plain": [
       "DepartureNode(pattern_id:5, service_id:c_1658_b_18260_d_31, row:1, col:0, datetime:2023-04-19 14:25:00-07:00)"
      ]
     },
     "execution_count": 9,
     "metadata": {},
     "output_type": "execute_result"
    }
   ],
   "source": [
    "node2 = transit_edge_provider.outgoing(node0)[0].node\n",
    "node2"
   ]
  },
  {
   "cell_type": "code",
   "execution_count": 10,
   "metadata": {},
   "outputs": [
    {
     "data": {
      "text/plain": [
       "[Edge(node=ArrivalNode(pattern_id:5, service_id:c_1658_b_18260_d_31, row:1, col:1, datetime:2023-04-19 14:35:00-07:00), weight=600.0)]"
      ]
     },
     "execution_count": 10,
     "metadata": {},
     "output_type": "execute_result"
    }
   ],
   "source": [
    "transit_edge_provider.outgoing(node2)"
   ]
  },
  {
   "cell_type": "code",
   "execution_count": 11,
   "metadata": {},
   "outputs": [],
   "source": [
    "osm_filename = \"/home/bmander/skilift_data/street/redding.pbf\"\n"
   ]
  },
  {
   "cell_type": "code",
   "execution_count": 12,
   "metadata": {},
   "outputs": [],
   "source": [
    "elev_geotiff_filename = \"/home/bmander/skilift_data/elevation/USGS_13_n41w123_20210624.tif\""
   ]
  },
  {
   "cell_type": "code",
   "execution_count": 13,
   "metadata": {},
   "outputs": [
    {
     "name": "stdout",
     "output_type": "stream",
     "text": [
      "Reading OSM file...done\n",
      "Indexing ways...done\n",
      "Getting node elevations...done\n",
      "Creating spatial index...done\n"
     ]
    }
   ],
   "source": [
    "elev_dataset = ElevationAwareStreetDataset(osm_filename, elev_geotiff_filename)"
   ]
  },
  {
   "cell_type": "code",
   "execution_count": 14,
   "metadata": {},
   "outputs": [
    {
     "data": {
      "text/plain": [
       "(-122.35866061888524, 40.58422925237579)"
      ]
     },
     "execution_count": 14,
     "metadata": {},
     "output_type": "execute_result"
    }
   ],
   "source": [
    "nd_points = elev_dataset.nodes.values()\n",
    "lon = sum([x[0] for x in nd_points])/len(nd_points)\n",
    "lat = sum([x[1] for x in nd_points])/len(nd_points)\n",
    "lon, lat"
   ]
  },
  {
   "cell_type": "code",
   "execution_count": 15,
   "metadata": {},
   "outputs": [
    {
     "data": {
      "text/plain": [
       "OnEarthSurfaceNode(-122.35866061888524, 40.58422925237579, 2023-04-19 13:00:00-07:00)"
      ]
     },
     "execution_count": 15,
     "metadata": {},
     "output_type": "execute_result"
    }
   ],
   "source": [
    "node0 = OnEarthSurfaceNode(lon, lat, t0)\n",
    "node0"
   ]
  },
  {
   "cell_type": "code",
   "execution_count": 17,
   "metadata": {},
   "outputs": [
    {
     "data": {
      "text/plain": [
       "[Edge(node=OnStreetNode(10557590, 13, 0.18715448062975482, 2023-04-19 13:00:11.591648613-07:00), weight=11.59164861368043)]"
      ]
     },
     "execution_count": 17,
     "metadata": {},
     "output_type": "execute_result"
    }
   ],
   "source": [
    "street_edge_provider = StreetEdgeProvider(elev_dataset)\n",
    "street_edge_provider.outgoing(node0)"
   ]
  }
 ],
 "metadata": {
  "kernelspec": {
   "display_name": "venv",
   "language": "python",
   "name": "python3"
  },
  "language_info": {
   "codemirror_mode": {
    "name": "ipython",
    "version": 3
   },
   "file_extension": ".py",
   "mimetype": "text/x-python",
   "name": "python",
   "nbconvert_exporter": "python",
   "pygments_lexer": "ipython3",
   "version": "3.11.3"
  },
  "orig_nbformat": 4
 },
 "nbformat": 4,
 "nbformat_minor": 2
}
