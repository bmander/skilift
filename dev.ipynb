{
 "cells": [
  {
   "cell_type": "code",
   "execution_count": 1,
   "metadata": {},
   "outputs": [],
   "source": [
    "from skilift import GTFS, get_stop_node, read_osm, get_elevations_for_nodes, get_graph_nodes, ElevationAwareStreetDataset"
   ]
  },
  {
   "cell_type": "code",
   "execution_count": 2,
   "metadata": {},
   "outputs": [],
   "source": [
    "import pandas as pd\n",
    "from zipfile import ZipFile\n",
    "from collections import defaultdict\n",
    "from typing import Dict, Set, Tuple, Iterable, Iterator, Any\n",
    "import numpy as np\n",
    "from shapely.geometry import Point, LineString, MultiLineString\n",
    "pd.set_option('display.max_columns', 100)\n",
    "pd.set_option('display.max_rows', 100)"
   ]
  },
  {
   "cell_type": "code",
   "execution_count": 3,
   "metadata": {},
   "outputs": [],
   "source": [
    "fn = \"/home/bmander/skilift_data/transit/redding.zip\"\n",
    "\n",
    "feed = GTFS(fn)"
   ]
  },
  {
   "cell_type": "code",
   "execution_count": 4,
   "metadata": {},
   "outputs": [
    {
     "data": {
      "text/plain": [
       "Timestamp('2023-04-19 13:00:00-0700', tz='America/Los_Angeles')"
      ]
     },
     "execution_count": 4,
     "metadata": {},
     "output_type": "execute_result"
    }
   ],
   "source": [
    "# get epoch time on Aptil 19, 2023 at 1:00pm pacific time\n",
    "t0 = pd.Timestamp(\"2023-04-19 13:00:00\", tz=\"America/Los_Angeles\")\n",
    "t0"
   ]
  },
  {
   "cell_type": "code",
   "execution_count": 5,
   "metadata": {},
   "outputs": [
    {
     "data": {
      "text/plain": [
       "AtStopNode(stop_id:2000, datetime:2023-04-19 13:00:00-07:00)"
      ]
     },
     "execution_count": 5,
     "metadata": {},
     "output_type": "execute_result"
    }
   ],
   "source": [
    "node0 = get_stop_node(feed, \"Downtown Transit Center\", t0)\n",
    "node0"
   ]
  },
  {
   "cell_type": "code",
   "execution_count": 6,
   "metadata": {},
   "outputs": [
    {
     "data": {
      "text/plain": [
       "DepartureNode(pattern_id:5, service_id:c_1658_b_18260_d_31, row:1, col:0, datetime:2023-04-19 14:25:00-07:00)"
      ]
     },
     "execution_count": 6,
     "metadata": {},
     "output_type": "execute_result"
    }
   ],
   "source": [
    "node0.outgoing[0].node"
   ]
  },
  {
   "cell_type": "code",
   "execution_count": 7,
   "metadata": {},
   "outputs": [
    {
     "data": {
      "text/plain": [
       "ArrivalNode(pattern_id:5, service_id:c_1658_b_18260_d_31, row:1, col:1, datetime:2023-04-19 14:35:00-07:00)"
      ]
     },
     "execution_count": 7,
     "metadata": {},
     "output_type": "execute_result"
    }
   ],
   "source": [
    "node0.outgoing[0].node.outgoing[0].node"
   ]
  },
  {
   "cell_type": "code",
   "execution_count": 8,
   "metadata": {},
   "outputs": [
    {
     "data": {
      "text/plain": [
       "[Edge(node=DepartureNode(pattern_id:5, service_id:c_1658_b_18260_d_31, row:1, col:1, datetime:2023-04-19 14:35:00-07:00), weight=0.0),\n",
       " Edge(node=AtStopNode(stop_id:8003, datetime:2023-04-19 14:35:00-07:00), weight=60.0)]"
      ]
     },
     "execution_count": 8,
     "metadata": {},
     "output_type": "execute_result"
    }
   ],
   "source": [
    "node0.outgoing[0].node.outgoing[0].node.outgoing"
   ]
  },
  {
   "cell_type": "code",
   "execution_count": 9,
   "metadata": {},
   "outputs": [],
   "source": [
    "osm_filename = \"/home/bmander/skilift_data/street/redding.pbf\"\n"
   ]
  },
  {
   "cell_type": "code",
   "execution_count": 10,
   "metadata": {},
   "outputs": [],
   "source": [
    "elev_geotiff_filename = \"/home/bmander/skilift_data/elevation/USGS_13_n41w123_20210624.tif\""
   ]
  },
  {
   "cell_type": "code",
   "execution_count": 11,
   "metadata": {},
   "outputs": [
    {
     "name": "stdout",
     "output_type": "stream",
     "text": [
      "Reading OSM file...done\n",
      "Indexing ways...done\n",
      "Getting node elevations...done\n",
      "Creating spatial index...done\n"
     ]
    }
   ],
   "source": [
    "elev_dataset = ElevationAwareStreetDataset(osm_filename, elev_geotiff_filename)"
   ]
  },
  {
   "cell_type": "code",
   "execution_count": 12,
   "metadata": {},
   "outputs": [],
   "source": [
    "def geodesic_distance_meters(geo_pt: Point, geo_pt2: Point) -> float:\n",
    "    \"\"\"Compute the geodesic distance in meters between two points on the earth's surface.\n",
    "    \"\"\"\n",
    "\n",
    "    # TODO: this can be vectorized if it ever becomes a bottleneck\n",
    "\n",
    "    # convert decimal degrees to radians\n",
    "    lon1, lat1, lon2, lat2 = map(np.radians, [geo_pt.x, geo_pt.y, geo_pt2.x, geo_pt2.y])\n",
    "\n",
    "    # haversine formula\n",
    "    dlon = lon2 - lon1\n",
    "    dlat = lat2 - lat1\n",
    "    a = np.sin(dlat/2)**2 + np.cos(lat1) * np.cos(lat2) * np.sin(dlon/2)**2\n",
    "    c = 2 * np.arcsin(np.sqrt(a))\n",
    "\n",
    "    earth_radius_km = 6371\n",
    "    km = earth_radius_km * c\n",
    "    return km * 1000"
   ]
  },
  {
   "cell_type": "code",
   "execution_count": 13,
   "metadata": {},
   "outputs": [
    {
     "data": {
      "text/plain": [
       "(40.58422925237579, -122.35866061888524)"
      ]
     },
     "execution_count": 13,
     "metadata": {},
     "output_type": "execute_result"
    }
   ],
   "source": [
    "nd_points = elev_dataset.nodes.values()\n",
    "lon = sum([x[0] for x in nd_points])/len(nd_points)\n",
    "lat = sum([x[1] for x in nd_points])/len(nd_points)\n",
    "lon, lat"
   ]
  },
  {
   "cell_type": "code",
   "execution_count": 14,
   "metadata": {},
   "outputs": [
    {
     "data": {
      "text/plain": [
       "array([   519,   2083,   2084,   2085,   2086,  57604,  57603,  57602,\n",
       "       167757, 167756, 157096, 193210, 193405, 193219, 193404,   2087,\n",
       "         2088,   2089, 167761, 120341,  57584, 187726,  57585,  57586,\n",
       "        57587,  57591,  57592,  57601,  57593,  57600,  57613,  57612,\n",
       "        57611,  57610,  57609,  57608,  57607,  57606,  57605,  57588,\n",
       "        57589,  57590, 187727,  57594,  57599,  57598,  57595,  57597,\n",
       "        57596,    520,    521,    522,    523,  62078,  62079,  62080,\n",
       "       112847, 143373, 143372, 112896, 172506, 157098,  58881, 112848,\n",
       "       112844, 167758, 167759, 167760, 193208, 193209, 193407, 193406,\n",
       "        62448, 157097, 193211])"
      ]
     },
     "execution_count": 14,
     "metadata": {},
     "output_type": "execute_result"
    }
   ],
   "source": [
    "segment_ids = elev_dataset.segment_spatial_index.query(Point(lon, lat).buffer(0.001))\n",
    "segment_ids"
   ]
  },
  {
   "cell_type": "code",
   "execution_count": 15,
   "metadata": {},
   "outputs": [
    {
     "name": "stdout",
     "output_type": "stream",
     "text": [
      "33.32896864818154\n"
     ]
    },
    {
     "data": {
      "image/svg+xml": [
       "<svg xmlns=\"http://www.w3.org/2000/svg\" xmlns:xlink=\"http://www.w3.org/1999/xlink\" width=\"100.0\" height=\"100.0\" viewBox=\"40.582723328 -122.360330172 0.0029189440000010336 0.0035146440000062285\" preserveAspectRatio=\"xMinYMin meet\"><g transform=\"matrix(1,0,0,-1,0,-244.7171457)\"><g><polyline fill=\"none\" stroke=\"#66cc99\" stroke-width=\"7.029288000012457e-05\" points=\"40.5828535,-122.3595261 40.5842158,-122.3588395\" opacity=\"0.8\" /><polyline fill=\"none\" stroke=\"#66cc99\" stroke-width=\"7.029288000012457e-05\" points=\"40.583188,-122.3588162 40.5832393,-122.3587341\" opacity=\"0.8\" /><polyline fill=\"none\" stroke=\"#66cc99\" stroke-width=\"7.029288000012457e-05\" points=\"40.5832393,-122.3587341 40.5832896,-122.3586474\" opacity=\"0.8\" /><polyline fill=\"none\" stroke=\"#66cc99\" stroke-width=\"7.029288000012457e-05\" points=\"40.5832896,-122.3586474 40.5833455,-122.3585403\" opacity=\"0.8\" /><polyline fill=\"none\" stroke=\"#66cc99\" stroke-width=\"7.029288000012457e-05\" points=\"40.5833455,-122.3585403 40.5833925,-122.358443\" opacity=\"0.8\" /><polyline fill=\"none\" stroke=\"#66cc99\" stroke-width=\"7.029288000012457e-05\" points=\"40.5842366,-122.3590451 40.5842034,-122.3590849\" opacity=\"0.8\" /><polyline fill=\"none\" stroke=\"#66cc99\" stroke-width=\"7.029288000012457e-05\" points=\"40.5842739,-122.3590094 40.5842366,-122.3590451\" opacity=\"0.8\" /><polyline fill=\"none\" stroke=\"#66cc99\" stroke-width=\"7.029288000012457e-05\" points=\"40.5843109,-122.3589799 40.5842739,-122.3590094\" opacity=\"0.8\" /><polyline fill=\"none\" stroke=\"#66cc99\" stroke-width=\"7.029288000012457e-05\" points=\"40.5839676,-122.3580135 40.5843892,-122.3580329\" opacity=\"0.8\" /><polyline fill=\"none\" stroke=\"#66cc99\" stroke-width=\"7.029288000012457e-05\" points=\"40.5836029,-122.3579916 40.5839676,-122.3580135\" opacity=\"0.8\" /><polyline fill=\"none\" stroke=\"#66cc99\" stroke-width=\"7.029288000012457e-05\" points=\"40.5841729,-122.3578934 40.5840156,-122.3578796\" opacity=\"0.8\" /><polyline fill=\"none\" stroke=\"#66cc99\" stroke-width=\"7.029288000012457e-05\" points=\"40.5840156,-122.3578796 40.5840246,-122.3577132\" opacity=\"0.8\" /><polyline fill=\"none\" stroke=\"#66cc99\" stroke-width=\"7.029288000012457e-05\" points=\"40.5842626,-122.3577075 40.584316,-122.3577484\" opacity=\"0.8\" /><polyline fill=\"none\" stroke=\"#66cc99\" stroke-width=\"7.029288000012457e-05\" points=\"40.5841736,-122.3575358 40.5841729,-122.3578934\" opacity=\"0.8\" /><polyline fill=\"none\" stroke=\"#66cc99\" stroke-width=\"7.029288000012457e-05\" points=\"40.5842218,-122.3576505 40.5842626,-122.3577075\" opacity=\"0.8\" /><polyline fill=\"none\" stroke=\"#66cc99\" stroke-width=\"7.029288000012457e-05\" points=\"40.5833925,-122.358443 40.5834385,-122.3583364\" opacity=\"0.8\" /><polyline fill=\"none\" stroke=\"#66cc99\" stroke-width=\"7.029288000012457e-05\" points=\"40.5834385,-122.3583364 40.5834769,-122.3582404\" opacity=\"0.8\" /><polyline fill=\"none\" stroke=\"#66cc99\" stroke-width=\"7.029288000012457e-05\" points=\"40.5834769,-122.3582404 40.5835102,-122.3581512\" opacity=\"0.8\" /><polyline fill=\"none\" stroke=\"#66cc99\" stroke-width=\"7.029288000012457e-05\" points=\"40.5835272,-122.3579878 40.5836029,-122.3579916\" opacity=\"0.8\" /><polyline fill=\"none\" stroke=\"#66cc99\" stroke-width=\"7.029288000012457e-05\" points=\"40.5832128,-122.357984 40.5835272,-122.3579878\" opacity=\"0.8\" /><polyline fill=\"none\" stroke=\"#66cc99\" stroke-width=\"7.029288000012457e-05\" points=\"40.5852141,-122.3602 40.5851056,-122.3594293\" opacity=\"0.8\" /><polyline fill=\"none\" stroke=\"#66cc99\" stroke-width=\"7.029288000012457e-05\" points=\"40.585281,-122.3601844 40.5851893,-122.3588178\" opacity=\"0.8\" /><polyline fill=\"none\" stroke=\"#66cc99\" stroke-width=\"7.029288000012457e-05\" points=\"40.5851056,-122.3594293 40.5850909,-122.3593586\" opacity=\"0.8\" /><polyline fill=\"none\" stroke=\"#66cc99\" stroke-width=\"7.029288000012457e-05\" points=\"40.5850909,-122.3593586 40.5850731,-122.3592946\" opacity=\"0.8\" /><polyline fill=\"none\" stroke=\"#66cc99\" stroke-width=\"7.029288000012457e-05\" points=\"40.5850731,-122.3592946 40.5850515,-122.3592364\" opacity=\"0.8\" /><polyline fill=\"none\" stroke=\"#66cc99\" stroke-width=\"7.029288000012457e-05\" points=\"40.58493,-122.359052 40.584885,-122.359008\" opacity=\"0.8\" /><polyline fill=\"none\" stroke=\"#66cc99\" stroke-width=\"7.029288000012457e-05\" points=\"40.584885,-122.359008 40.5848335,-122.3589667\" opacity=\"0.8\" /><polyline fill=\"none\" stroke=\"#66cc99\" stroke-width=\"7.029288000012457e-05\" points=\"40.5843489,-122.3589558 40.5843109,-122.3589799\" opacity=\"0.8\" /><polyline fill=\"none\" stroke=\"#66cc99\" stroke-width=\"7.029288000012457e-05\" points=\"40.5848335,-122.3589667 40.5847789,-122.358932\" opacity=\"0.8\" /><polyline fill=\"none\" stroke=\"#66cc99\" stroke-width=\"7.029288000012457e-05\" points=\"40.584436,-122.3589112 40.5843489,-122.3589558\" opacity=\"0.8\" /><polyline fill=\"none\" stroke=\"#66cc99\" stroke-width=\"7.029288000012457e-05\" points=\"40.5840381,-122.3596106 40.5840416,-122.3596936\" opacity=\"0.8\" /><polyline fill=\"none\" stroke=\"#66cc99\" stroke-width=\"7.029288000012457e-05\" points=\"40.5840382,-122.3595402 40.5840381,-122.3596106\" opacity=\"0.8\" /><polyline fill=\"none\" stroke=\"#66cc99\" stroke-width=\"7.029288000012457e-05\" points=\"40.5840441,-122.3594794 40.5840382,-122.3595402\" opacity=\"0.8\" /><polyline fill=\"none\" stroke=\"#66cc99\" stroke-width=\"7.029288000012457e-05\" points=\"40.5840551,-122.3594254 40.5840441,-122.3594794\" opacity=\"0.8\" /><polyline fill=\"none\" stroke=\"#66cc99\" stroke-width=\"7.029288000012457e-05\" points=\"40.5840751,-122.3593394 40.5840551,-122.3594254\" opacity=\"0.8\" /><polyline fill=\"none\" stroke=\"#66cc99\" stroke-width=\"7.029288000012457e-05\" points=\"40.5840986,-122.3592679 40.5840751,-122.3593394\" opacity=\"0.8\" /><polyline fill=\"none\" stroke=\"#66cc99\" stroke-width=\"7.029288000012457e-05\" points=\"40.5841278,-122.3592017 40.5840986,-122.3592679\" opacity=\"0.8\" /><polyline fill=\"none\" stroke=\"#66cc99\" stroke-width=\"7.029288000012457e-05\" points=\"40.584163,-122.3591366 40.5841278,-122.3592017\" opacity=\"0.8\" /><polyline fill=\"none\" stroke=\"#66cc99\" stroke-width=\"7.029288000012457e-05\" points=\"40.5842034,-122.3590849 40.584163,-122.3591366\" opacity=\"0.8\" /><polyline fill=\"none\" stroke=\"#66cc99\" stroke-width=\"7.029288000012457e-05\" points=\"40.5850515,-122.3592364 40.5850258,-122.3591823\" opacity=\"0.8\" /><polyline fill=\"none\" stroke=\"#66cc99\" stroke-width=\"7.029288000012457e-05\" points=\"40.5850258,-122.3591823 40.5849841,-122.359121\" opacity=\"0.8\" /><polyline fill=\"none\" stroke=\"#66cc99\" stroke-width=\"7.029288000012457e-05\" points=\"40.5849841,-122.359121 40.58493,-122.359052\" opacity=\"0.8\" /><polyline fill=\"none\" stroke=\"#66cc99\" stroke-width=\"7.029288000012457e-05\" points=\"40.5851893,-122.3588178 40.5851397,-122.3582299\" opacity=\"0.8\" /><polyline fill=\"none\" stroke=\"#66cc99\" stroke-width=\"7.029288000012457e-05\" points=\"40.5847789,-122.358932 40.5846955,-122.3588981\" opacity=\"0.8\" /><polyline fill=\"none\" stroke=\"#66cc99\" stroke-width=\"7.029288000012457e-05\" points=\"40.5844891,-122.3588965 40.584436,-122.3589112\" opacity=\"0.8\" /><polyline fill=\"none\" stroke=\"#66cc99\" stroke-width=\"7.029288000012457e-05\" points=\"40.5845278,-122.3588889 40.5844891,-122.3588965\" opacity=\"0.8\" /><polyline fill=\"none\" stroke=\"#66cc99\" stroke-width=\"7.029288000012457e-05\" points=\"40.5846955,-122.3588981 40.5846354,-122.3588841\" opacity=\"0.8\" /><polyline fill=\"none\" stroke=\"#66cc99\" stroke-width=\"7.029288000012457e-05\" points=\"40.5845665,-122.3588841 40.5845278,-122.3588889\" opacity=\"0.8\" /><polyline fill=\"none\" stroke=\"#66cc99\" stroke-width=\"7.029288000012457e-05\" points=\"40.5846354,-122.3588841 40.5845665,-122.3588841\" opacity=\"0.8\" /><polyline fill=\"none\" stroke=\"#66cc99\" stroke-width=\"7.029288000012457e-05\" points=\"40.5842158,-122.3588395 40.5846572,-122.3586171\" opacity=\"0.8\" /><polyline fill=\"none\" stroke=\"#66cc99\" stroke-width=\"7.029288000012457e-05\" points=\"40.5846572,-122.3586171 40.5847517,-122.3585752\" opacity=\"0.8\" /><polyline fill=\"none\" stroke=\"#66cc99\" stroke-width=\"7.029288000012457e-05\" points=\"40.5847517,-122.3585752 40.5848463,-122.3585384\" opacity=\"0.8\" /><polyline fill=\"none\" stroke=\"#66cc99\" stroke-width=\"7.029288000012457e-05\" points=\"40.5848463,-122.3585384 40.5849704,-122.3585026\" opacity=\"0.8\" /><polyline fill=\"none\" stroke=\"#66cc99\" stroke-width=\"7.029288000012457e-05\" points=\"40.5849704,-122.3585026 40.5850619,-122.3584854\" opacity=\"0.8\" /><polyline fill=\"none\" stroke=\"#66cc99\" stroke-width=\"7.029288000012457e-05\" points=\"40.5850619,-122.3584854 40.5851803,-122.358472\" opacity=\"0.8\" /><polyline fill=\"none\" stroke=\"#66cc99\" stroke-width=\"7.029288000012457e-05\" points=\"40.5851803,-122.358472 40.585359,-122.3584627\" opacity=\"0.8\" /><polyline fill=\"none\" stroke=\"#66cc99\" stroke-width=\"7.029288000012457e-05\" points=\"40.5851397,-122.3582299 40.5850785,-122.3580847\" opacity=\"0.8\" /><polyline fill=\"none\" stroke=\"#66cc99\" stroke-width=\"7.029288000012457e-05\" points=\"40.5850177,-122.3580439 40.5853611,-122.3580606\" opacity=\"0.8\" /><polyline fill=\"none\" stroke=\"#66cc99\" stroke-width=\"7.029288000012457e-05\" points=\"40.5849519,-122.3580407 40.5850177,-122.3580439\" opacity=\"0.8\" /><polyline fill=\"none\" stroke=\"#66cc99\" stroke-width=\"7.029288000012457e-05\" points=\"40.5852107,-122.357367 40.5853211,-122.3587153\" opacity=\"0.8\" /><polyline fill=\"none\" stroke=\"#66cc99\" stroke-width=\"7.029288000012457e-05\" points=\"40.5855121,-122.3579461 40.5851671,-122.3579255\" opacity=\"0.8\" /><polyline fill=\"none\" stroke=\"#66cc99\" stroke-width=\"7.029288000012457e-05\" points=\"40.5851671,-122.3579255 40.5848646,-122.3579044\" opacity=\"0.8\" /><polyline fill=\"none\" stroke=\"#66cc99\" stroke-width=\"7.029288000012457e-05\" points=\"40.5851671,-122.3579255 40.5854583,-122.35786\" opacity=\"0.8\" /><polyline fill=\"none\" stroke=\"#66cc99\" stroke-width=\"7.029288000012457e-05\" points=\"40.5850785,-122.3580847 40.5849859,-122.3574562\" opacity=\"0.8\" /><polyline fill=\"none\" stroke=\"#66cc99\" stroke-width=\"7.029288000012457e-05\" points=\"40.5851397,-122.3582299 40.5850588,-122.3569457\" opacity=\"0.8\" /><polyline fill=\"none\" stroke=\"#66cc99\" stroke-width=\"7.029288000012457e-05\" points=\"40.5843892,-122.3580329 40.584783,-122.3580509\" opacity=\"0.8\" /><polyline fill=\"none\" stroke=\"#66cc99\" stroke-width=\"7.029288000012457e-05\" points=\"40.584783,-122.3580509 40.5848381,-122.3580329\" opacity=\"0.8\" /><polyline fill=\"none\" stroke=\"#66cc99\" stroke-width=\"7.029288000012457e-05\" points=\"40.5848381,-122.3580329 40.5849519,-122.3580407\" opacity=\"0.8\" /><polyline fill=\"none\" stroke=\"#66cc99\" stroke-width=\"7.029288000012457e-05\" points=\"40.5848646,-122.3579044 40.5845233,-122.357899\" opacity=\"0.8\" /><polyline fill=\"none\" stroke=\"#66cc99\" stroke-width=\"7.029288000012457e-05\" points=\"40.5845233,-122.357899 40.5841729,-122.3578934\" opacity=\"0.8\" /><polyline fill=\"none\" stroke=\"#66cc99\" stroke-width=\"7.029288000012457e-05\" points=\"40.5843914,-122.3577639 40.5845233,-122.357899\" opacity=\"0.8\" /><polyline fill=\"none\" stroke=\"#66cc99\" stroke-width=\"7.029288000012457e-05\" points=\"40.584316,-122.3577484 40.5843914,-122.3577639\" opacity=\"0.8\" /><polyline fill=\"none\" stroke=\"#66cc99\" stroke-width=\"7.029288000012457e-05\" points=\"40.5835102,-122.3581512 40.5837256,-122.3576018\" opacity=\"0.8\" /><polyline fill=\"none\" stroke=\"#66cc99\" stroke-width=\"7.029288000012457e-05\" points=\"40.5840156,-122.3578796 40.5831705,-122.3578626\" opacity=\"0.8\" /><polyline fill=\"none\" stroke=\"#66cc99\" stroke-width=\"7.029288000012457e-05\" points=\"40.5840246,-122.3577132 40.5840444,-122.3572282\" opacity=\"0.8\" /></g></g></svg>"
      ],
      "text/plain": [
       "<MULTILINESTRING ((40.583 -122.36, 40.584 -122.359), (40.583 -122.359, 40.58...>"
      ]
     },
     "execution_count": 15,
     "metadata": {},
     "output_type": "execute_result"
    }
   ],
   "source": [
    "segments = [elev_dataset.segments[segment_id] for segment_id in segment_ids]\n",
    "# combine all segments into multigeometry\n",
    "ls = MultiLineString(segments)\n",
    "print(geodesic_distance_meters(ls.centroid, Point(lon, lat)))\n",
    "ls"
   ]
  },
  {
   "cell_type": "code",
   "execution_count": 16,
   "metadata": {},
   "outputs": [
    {
     "name": "stdout",
     "output_type": "stream",
     "text": [
      "0.00015369620164789116 LINESTRING (40.5842158 -122.3588395, 40.5846572 -122.3586171)\n"
     ]
    }
   ],
   "source": [
    "query_pt = Point(lon, lat)\n",
    "segment_distances = [segment.distance(query_pt) for segment in segments]\n",
    "closest_ix = np.argmin( segment_distances )\n",
    "\n",
    "print( segment_distances[closest_ix], segments[closest_ix] )"
   ]
  },
  {
   "cell_type": "code",
   "execution_count": 17,
   "metadata": {},
   "outputs": [
    {
     "data": {
      "text/plain": [
       "(10557590, 13)"
      ]
     },
     "execution_count": 17,
     "metadata": {},
     "output_type": "execute_result"
    }
   ],
   "source": [
    "elev_dataset.segment_way_refs[segment_ids[closest_ix]]"
   ]
  },
  {
   "cell_type": "code",
   "execution_count": 18,
   "metadata": {},
   "outputs": [],
   "source": [
    "linear_ref = segments[closest_ix].line_locate_point(query_pt, normalized=True)"
   ]
  },
  {
   "cell_type": "code",
   "execution_count": 19,
   "metadata": {},
   "outputs": [],
   "source": [
    "closest_point = segments[closest_ix].interpolate(linear_ref)"
   ]
  },
  {
   "cell_type": "code",
   "execution_count": 20,
   "metadata": {},
   "outputs": [
    {
     "data": {
      "text/plain": [
       "25.92427198355799"
      ]
     },
     "execution_count": 20,
     "metadata": {},
     "output_type": "execute_result"
    }
   ],
   "source": [
    "geodesic_distance_meters(closest_point, query_pt)"
   ]
  },
  {
   "cell_type": "code",
   "execution_count": 21,
   "metadata": {},
   "outputs": [
    {
     "data": {
      "text/plain": [
       "(10557590, 13, 0.18715448062975482)"
      ]
     },
     "execution_count": 21,
     "metadata": {},
     "output_type": "execute_result"
    }
   ],
   "source": [
    "way_id, seg_ix, linear_ref = elev_dataset.get_nearest_segment(lat, lon)\n",
    "way_id, seg_ix, linear_ref"
   ]
  },
  {
   "cell_type": "code",
   "execution_count": 22,
   "metadata": {},
   "outputs": [],
   "source": [
    "seg = LineString([elev_dataset.nodes[node_id] for node_id in elev_dataset.ways[way_id].nds[seg_ix:seg_ix+2]])\n",
    "nearest_point = seg.line_interpolate_point(linear_ref, normalized=True)"
   ]
  },
  {
   "cell_type": "code",
   "execution_count": 23,
   "metadata": {},
   "outputs": [
    {
     "data": {
      "text/plain": [
       "15.80760752260572"
      ]
     },
     "execution_count": 23,
     "metadata": {},
     "output_type": "execute_result"
    }
   ],
   "source": [
    "geodesic_distance_meters(Point(lon, lat), nearest_point)"
   ]
  },
  {
   "cell_type": "code",
   "execution_count": 17,
   "metadata": {},
   "outputs": [
    {
     "name": "stdout",
     "output_type": "stream",
     "text": [
      "33.586155638010396\n",
      "30.45918994893321\n",
      "30.448305567346534\n",
      "30.984222752860745\n",
      "19.906777976196068\n"
     ]
    }
   ],
   "source": [
    "for nd_ix in tree.query(avg.buffer(0.0003)):\n",
    "    pt = nd_points[nd_ix]\n",
    "\n",
    "    # find distance in meters between geographical points\n",
    "    dist = geodesic_distance_meters(avg, pt)\n",
    "    print(dist)"
   ]
  },
  {
   "cell_type": "code",
   "execution_count": 18,
   "metadata": {},
   "outputs": [],
   "source": [
    "def cons(ary: Iterable) -> Iterator[Tuple[Any, Any]]:\n",
    "    \"\"\"Return a generator of consecutive pairs from the input iterable.\"\"\"\n",
    "    it = iter(ary)\n",
    "    prev = next(it)\n",
    "    for item in it:\n",
    "        yield prev, item\n",
    "        prev = item\n",
    "\n",
    "way_segments = []\n",
    "for way_id, way in elev_dataset.ways.items():\n",
    "    for segment_ix, (nd1, nd2) in enumerate(cons(way.nds)):\n",
    "        pt1 = elev_dataset.nodes[nd1]\n",
    "        pt2 = elev_dataset.nodes[nd2]\n",
    "\n",
    "        segment = LineString([pt1, pt2])\n",
    "\n",
    "        way_segments.append( (way_id, segment_ix, segment) )\n"
   ]
  },
  {
   "cell_type": "code",
   "execution_count": 19,
   "metadata": {},
   "outputs": [],
   "source": [
    "way_segments_index = STRtree([seg[2] for seg in way_segments])"
   ]
  },
  {
   "cell_type": "code",
   "execution_count": 20,
   "metadata": {},
   "outputs": [
    {
     "name": "stdout",
     "output_type": "stream",
     "text": [
      "10557590 13 0.18715448062975482\n"
     ]
    }
   ],
   "source": [
    "dists = []\n",
    "\n",
    "for ix in way_segments_index.query(avg.buffer(0.0003)):\n",
    "    way_id, i, segment = way_segments[ix]\n",
    "\n",
    "    way_segment_dist = segment.distance(avg)\n",
    "\n",
    "    dists.append( (ix, way_segment_dist) )\n",
    "\n",
    "closest_ix = min( dists, key=lambda x: x[1] )[0]\n",
    "\n",
    "way_id, i, segment = way_segments[closest_ix]\n",
    "linear_ref = segment.line_locate_point(avg, normalized=True)\n",
    "print(way_id, i, linear_ref)\n"
   ]
  },
  {
   "cell_type": "code",
   "execution_count": null,
   "metadata": {},
   "outputs": [],
   "source": []
  }
 ],
 "metadata": {
  "kernelspec": {
   "display_name": "venv",
   "language": "python",
   "name": "python3"
  },
  "language_info": {
   "codemirror_mode": {
    "name": "ipython",
    "version": 3
   },
   "file_extension": ".py",
   "mimetype": "text/x-python",
   "name": "python",
   "nbconvert_exporter": "python",
   "pygments_lexer": "ipython3",
   "version": "3.11.3"
  },
  "orig_nbformat": 4
 },
 "nbformat": 4,
 "nbformat_minor": 2
}
