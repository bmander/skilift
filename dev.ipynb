{
 "cells": [
  {
   "cell_type": "code",
   "execution_count": 1,
   "metadata": {},
   "outputs": [],
   "source": [
    "from skilift import GTFS, get_stop_node, read_osm, get_elevations_for_nodes, get_graph_nodes, ElevationAwareStreetDataset"
   ]
  },
  {
   "cell_type": "code",
   "execution_count": 2,
   "metadata": {},
   "outputs": [],
   "source": [
    "import pandas as pd\n",
    "from zipfile import ZipFile\n",
    "from collections import defaultdict\n",
    "from typing import Dict, Set, Tuple, Iterable, Iterator, Any\n",
    "import numpy as np\n",
    "pd.set_option('display.max_columns', 100)\n",
    "pd.set_option('display.max_rows', 100)"
   ]
  },
  {
   "cell_type": "code",
   "execution_count": 3,
   "metadata": {},
   "outputs": [],
   "source": [
    "fn = \"/home/bmander/skilift_data/transit/redding.zip\"\n",
    "\n",
    "feed = GTFS(fn)"
   ]
  },
  {
   "cell_type": "code",
   "execution_count": 4,
   "metadata": {},
   "outputs": [
    {
     "data": {
      "text/plain": [
       "Timestamp('2023-04-19 13:00:00-0700', tz='America/Los_Angeles')"
      ]
     },
     "execution_count": 4,
     "metadata": {},
     "output_type": "execute_result"
    }
   ],
   "source": [
    "# get epoch time on Aptil 19, 2023 at 1:00pm pacific time\n",
    "t0 = pd.Timestamp(\"2023-04-19 13:00:00\", tz=\"America/Los_Angeles\")\n",
    "t0"
   ]
  },
  {
   "cell_type": "code",
   "execution_count": 5,
   "metadata": {},
   "outputs": [
    {
     "data": {
      "text/plain": [
       "AtStopNode(stop_id:2000, datetime:2023-04-19 13:00:00-07:00)"
      ]
     },
     "execution_count": 5,
     "metadata": {},
     "output_type": "execute_result"
    }
   ],
   "source": [
    "node0 = get_stop_node(feed, \"Downtown Transit Center\", t0)\n",
    "node0"
   ]
  },
  {
   "cell_type": "code",
   "execution_count": 6,
   "metadata": {},
   "outputs": [
    {
     "data": {
      "text/plain": [
       "DepartureNode(pattern_id:5, service_id:c_1658_b_18260_d_31, row:1, col:0, datetime:2023-04-19 14:25:00-07:00)"
      ]
     },
     "execution_count": 6,
     "metadata": {},
     "output_type": "execute_result"
    }
   ],
   "source": [
    "node0.outgoing[0].node"
   ]
  },
  {
   "cell_type": "code",
   "execution_count": 7,
   "metadata": {},
   "outputs": [
    {
     "data": {
      "text/plain": [
       "ArrivalNode(pattern_id:5, service_id:c_1658_b_18260_d_31, row:1, col:1, datetime:2023-04-19 14:35:00-07:00)"
      ]
     },
     "execution_count": 7,
     "metadata": {},
     "output_type": "execute_result"
    }
   ],
   "source": [
    "node0.outgoing[0].node.outgoing[0].node"
   ]
  },
  {
   "cell_type": "code",
   "execution_count": 8,
   "metadata": {},
   "outputs": [
    {
     "data": {
      "text/plain": [
       "[Edge(node=DepartureNode(pattern_id:5, service_id:c_1658_b_18260_d_31, row:1, col:1, datetime:2023-04-19 14:35:00-07:00), weight=0.0),\n",
       " Edge(node=AtStopNode(stop_id:8003, datetime:2023-04-19 14:35:00-07:00), weight=60.0)]"
      ]
     },
     "execution_count": 8,
     "metadata": {},
     "output_type": "execute_result"
    }
   ],
   "source": [
    "node0.outgoing[0].node.outgoing[0].node.outgoing"
   ]
  },
  {
   "cell_type": "code",
   "execution_count": 9,
   "metadata": {},
   "outputs": [],
   "source": [
    "osm_filename = \"/home/bmander/skilift_data/street/redding.pbf\"\n"
   ]
  },
  {
   "cell_type": "code",
   "execution_count": 10,
   "metadata": {},
   "outputs": [],
   "source": [
    "elev_geotiff_filename = \"/home/bmander/skilift_data/elevation/USGS_13_n41w123_20210624.tif\""
   ]
  },
  {
   "cell_type": "code",
   "execution_count": 11,
   "metadata": {},
   "outputs": [
    {
     "name": "stdout",
     "output_type": "stream",
     "text": [
      "Reading OSM file...done\n",
      "Indexing ways...done\n",
      "Getting node elevations...done\n"
     ]
    }
   ],
   "source": [
    "elev_dataset = ElevationAwareStreetDataset(osm_filename, elev_geotiff_filename)"
   ]
  },
  {
   "cell_type": "code",
   "execution_count": 12,
   "metadata": {},
   "outputs": [],
   "source": [
    "from shapely.strtree import STRtree\n",
    "from shapely.geometry import Point, LineString"
   ]
  },
  {
   "cell_type": "code",
   "execution_count": 13,
   "metadata": {},
   "outputs": [],
   "source": [
    "def geodesic_distance_meters(geo_pt: Point, geo_pt2: Point) -> float:\n",
    "    \"\"\"Compute the geodesic distance in meters between two points on the earth's surface.\n",
    "    \"\"\"\n",
    "\n",
    "    # TODO: this can be vectorized if it ever becomes a bottleneck\n",
    "\n",
    "    # convert decimal degrees to radians\n",
    "    lon1, lat1, lon2, lat2 = map(np.radians, [geo_pt.x, geo_pt.y, geo_pt2.x, geo_pt2.y])\n",
    "\n",
    "    # haversine formula\n",
    "    dlon = lon2 - lon1\n",
    "    dlat = lat2 - lat1\n",
    "    a = np.sin(dlat/2)**2 + np.cos(lat1) * np.cos(lat2) * np.sin(dlon/2)**2\n",
    "    c = 2 * np.arcsin(np.sqrt(a))\n",
    "\n",
    "    earth_radius_km = 6371\n",
    "    km = earth_radius_km * c\n",
    "    return km * 1000"
   ]
  },
  {
   "cell_type": "code",
   "execution_count": 14,
   "metadata": {},
   "outputs": [],
   "source": [
    "nd_points = [Point(lon, lat) for lon, lat in elev_dataset.nodes.values()]"
   ]
  },
  {
   "cell_type": "code",
   "execution_count": 15,
   "metadata": {},
   "outputs": [],
   "source": [
    "tree = STRtree( nd_points )"
   ]
  },
  {
   "cell_type": "code",
   "execution_count": 16,
   "metadata": {},
   "outputs": [],
   "source": [
    "lon = sum([pt.x for pt in nd_points])/len(nd_points)\n",
    "lat = sum([pt.y for pt in nd_points])/len(nd_points)\n",
    "avg = Point(lon, lat)"
   ]
  },
  {
   "cell_type": "code",
   "execution_count": 17,
   "metadata": {},
   "outputs": [
    {
     "name": "stdout",
     "output_type": "stream",
     "text": [
      "33.586155638010396\n",
      "30.45918994893321\n",
      "30.448305567346534\n",
      "30.984222752860745\n",
      "19.906777976196068\n"
     ]
    }
   ],
   "source": [
    "for nd_ix in tree.query(avg.buffer(0.0003)):\n",
    "    pt = nd_points[nd_ix]\n",
    "\n",
    "    # find distance in meters between geographical points\n",
    "    dist = geodesic_distance_meters(avg, pt)\n",
    "    print(dist)"
   ]
  },
  {
   "cell_type": "code",
   "execution_count": 18,
   "metadata": {},
   "outputs": [],
   "source": [
    "def cons(ary: Iterable) -> Iterator[Tuple[Any, Any]]:\n",
    "    \"\"\"Return a generator of consecutive pairs from the input iterable.\"\"\"\n",
    "    it = iter(ary)\n",
    "    prev = next(it)\n",
    "    for item in it:\n",
    "        yield prev, item\n",
    "        prev = item\n",
    "\n",
    "way_segments = []\n",
    "for way_id, way in elev_dataset.ways.items():\n",
    "    for i, (nd1, nd2) in enumerate(cons(way.nds)):\n",
    "        pt1 = elev_dataset.nodes[nd1]\n",
    "        pt2 = elev_dataset.nodes[nd2]\n",
    "\n",
    "        segment = LineString([pt1, pt2])\n",
    "\n",
    "        way_segments.append( (way_id, i, segment) )\n"
   ]
  },
  {
   "cell_type": "code",
   "execution_count": 19,
   "metadata": {},
   "outputs": [],
   "source": [
    "way_segments_index = STRtree([seg[2] for seg in way_segments])"
   ]
  },
  {
   "cell_type": "code",
   "execution_count": 20,
   "metadata": {},
   "outputs": [
    {
     "name": "stdout",
     "output_type": "stream",
     "text": [
      "10557590 13 0.18715448062975482\n"
     ]
    }
   ],
   "source": [
    "dists = []\n",
    "\n",
    "for ix in way_segments_index.query(avg.buffer(0.0003)):\n",
    "    way_id, i, segment = way_segments[ix]\n",
    "\n",
    "    way_segment_dist = segment.distance(avg)\n",
    "\n",
    "    dists.append( (ix, way_segment_dist) )\n",
    "\n",
    "closest_ix = min( dists, key=lambda x: x[1] )[0]\n",
    "\n",
    "way_id, i, segment = way_segments[closest_ix]\n",
    "linear_ref = segment.line_locate_point(avg, normalized=True)\n",
    "print(way_id, i, linear_ref)\n"
   ]
  },
  {
   "cell_type": "code",
   "execution_count": null,
   "metadata": {},
   "outputs": [],
   "source": []
  }
 ],
 "metadata": {
  "kernelspec": {
   "display_name": "venv",
   "language": "python",
   "name": "python3"
  },
  "language_info": {
   "codemirror_mode": {
    "name": "ipython",
    "version": 3
   },
   "file_extension": ".py",
   "mimetype": "text/x-python",
   "name": "python",
   "nbconvert_exporter": "python",
   "pygments_lexer": "ipython3",
   "version": "3.8.10"
  },
  "orig_nbformat": 4
 },
 "nbformat": 4,
 "nbformat_minor": 2
}
