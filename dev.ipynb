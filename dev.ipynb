{
 "cells": [
  {
   "cell_type": "code",
   "execution_count": 2,
   "metadata": {},
   "outputs": [],
   "source": [
    "from skilift import GTFSFeed, get_stop_vertex, read_osm, \\\n",
    "StreetData, OnEarthSurfaceVertex, TransitEdgeProvider, StreetEdgeProvider, \\\n",
    "NodeRef, StreetNodeVertex, TransitStreetConnectionEdgeProvider"
   ]
  },
  {
   "cell_type": "code",
   "execution_count": 3,
   "metadata": {},
   "outputs": [],
   "source": [
    "import pandas as pd\n",
    "from zipfile import ZipFile\n",
    "from collections import defaultdict\n",
    "from typing import Dict, Set, Tuple, Iterable, Iterator, Any\n",
    "import numpy as np\n",
    "from shapely.geometry import Point, LineString, MultiLineString\n",
    "pd.set_option('display.max_columns', 100)\n",
    "pd.set_option('display.max_rows', 100)"
   ]
  },
  {
   "cell_type": "code",
   "execution_count": 4,
   "metadata": {},
   "outputs": [],
   "source": [
    "fn = \"/home/bmander/skilift_data/transit/redding.zip\"\n",
    "\n",
    "feed = GTFSFeed(fn)\n",
    "transit_edge_provider = TransitEdgeProvider(feed)"
   ]
  },
  {
   "cell_type": "code",
   "execution_count": 5,
   "metadata": {},
   "outputs": [
    {
     "data": {
      "text/plain": [
       "Timestamp('2023-04-19 13:00:00-0700', tz='America/Los_Angeles')"
      ]
     },
     "execution_count": 5,
     "metadata": {},
     "output_type": "execute_result"
    }
   ],
   "source": [
    "# get epoch time on Aptil 19, 2023 at 1:00pm pacific time\n",
    "t0 = pd.Timestamp(\"2023-04-19 13:00:00\", tz=\"America/Los_Angeles\")\n",
    "t0"
   ]
  },
  {
   "cell_type": "code",
   "execution_count": 6,
   "metadata": {},
   "outputs": [
    {
     "data": {
      "text/plain": [
       "AtStopvertex(stop_id:2000, datetime:2023-04-19 13:00:00-07:00)"
      ]
     },
     "execution_count": 6,
     "metadata": {},
     "output_type": "execute_result"
    }
   ],
   "source": [
    "node0 = get_stop_vertex(feed, \"Downtown Transit Center\", t0)\n",
    "node0"
   ]
  },
  {
   "cell_type": "code",
   "execution_count": 7,
   "metadata": {},
   "outputs": [
    {
     "data": {
      "text/plain": [
       "2000"
      ]
     },
     "execution_count": 7,
     "metadata": {},
     "output_type": "execute_result"
    }
   ],
   "source": [
    "node0.stop_id"
   ]
  },
  {
   "cell_type": "code",
   "execution_count": 8,
   "metadata": {},
   "outputs": [
    {
     "data": {
      "text/plain": [
       "DepartureVertex(pattern_id:5, service_id:c_1658_b_18260_d_31, row:1, col:0, datetime:2023-04-19 14:25:00-07:00)"
      ]
     },
     "execution_count": 8,
     "metadata": {},
     "output_type": "execute_result"
    }
   ],
   "source": [
    "node1 = transit_edge_provider.outgoing(node0)[0].vertex\n",
    "node1"
   ]
  },
  {
   "cell_type": "code",
   "execution_count": 9,
   "metadata": {},
   "outputs": [
    {
     "data": {
      "text/plain": [
       "DepartureVertex(pattern_id:5, service_id:c_1658_b_18260_d_31, row:1, col:0, datetime:2023-04-19 14:25:00-07:00)"
      ]
     },
     "execution_count": 9,
     "metadata": {},
     "output_type": "execute_result"
    }
   ],
   "source": [
    "node2 = transit_edge_provider.outgoing(node0)[0].vertex\n",
    "node2"
   ]
  },
  {
   "cell_type": "code",
   "execution_count": 10,
   "metadata": {},
   "outputs": [
    {
     "data": {
      "text/plain": [
       "[Edge(vertex=ArrivalVertex(pattern_id:5, service_id:c_1658_b_18260_d_31, row:1, col:1, datetime:2023-04-19 14:35:00-07:00), weight=600.0)]"
      ]
     },
     "execution_count": 10,
     "metadata": {},
     "output_type": "execute_result"
    }
   ],
   "source": [
    "transit_edge_provider.outgoing(node2)"
   ]
  },
  {
   "cell_type": "code",
   "execution_count": 11,
   "metadata": {},
   "outputs": [],
   "source": [
    "osm_filename = \"/home/bmander/skilift_data/street/redding.pbf\"\n"
   ]
  },
  {
   "cell_type": "code",
   "execution_count": 12,
   "metadata": {},
   "outputs": [],
   "source": [
    "elev_geotiff_filename = \"/home/bmander/skilift_data/elevation/USGS_13_n41w123_20210624.tif\""
   ]
  },
  {
   "cell_type": "code",
   "execution_count": 13,
   "metadata": {},
   "outputs": [
    {
     "name": "stdout",
     "output_type": "stream",
     "text": [
      "Reading OSM file...done\n",
      "Indexing ways...done\n",
      "Getting node elevations...done\n",
      "Creating spatial index...done\n"
     ]
    }
   ],
   "source": [
    "elev_dataset = StreetData(osm_filename, elev_geotiff_filename)"
   ]
  },
  {
   "cell_type": "code",
   "execution_count": 14,
   "metadata": {},
   "outputs": [
    {
     "data": {
      "text/plain": [
       "(-122.35873694849425, 40.584176490162584)"
      ]
     },
     "execution_count": 14,
     "metadata": {},
     "output_type": "execute_result"
    }
   ],
   "source": [
    "nd_points = elev_dataset.nodes.values()\n",
    "lon = sum([x[0] for x in nd_points])/len(nd_points)\n",
    "lat = sum([x[1] for x in nd_points])/len(nd_points)\n",
    "lon, lat"
   ]
  },
  {
   "cell_type": "code",
   "execution_count": 15,
   "metadata": {},
   "outputs": [
    {
     "data": {
      "text/plain": [
       "OnEarthSurfaceNode(-122.35873694849425, 40.584176490162584, 2023-04-19 13:00:00-07:00)"
      ]
     },
     "execution_count": 15,
     "metadata": {},
     "output_type": "execute_result"
    }
   ],
   "source": [
    "node0 = OnEarthSurfaceVertex(lon, lat, t0)\n",
    "node0"
   ]
  },
  {
   "cell_type": "code",
   "execution_count": 16,
   "metadata": {},
   "outputs": [
    {
     "data": {
      "text/plain": [
       "MidStreetNode(SegmentRef(way_id=774909443, segment_index=1), 0.573216480698101, 2023-04-19 13:00:50.220285374-07:00)"
      ]
     },
     "execution_count": 16,
     "metadata": {},
     "output_type": "execute_result"
    }
   ],
   "source": [
    "street_edge_provider = StreetEdgeProvider(elev_dataset)\n",
    "v0 = street_edge_provider.outgoing(node0)[0].vertex\n",
    "v0"
   ]
  },
  {
   "cell_type": "code",
   "execution_count": 17,
   "metadata": {},
   "outputs": [],
   "source": [
    "way = street_edge_provider.osm_data.ways[774909443]"
   ]
  },
  {
   "cell_type": "code",
   "execution_count": 18,
   "metadata": {},
   "outputs": [
    {
     "data": {
      "text/plain": [
       "{NodeRef(way_id=675408601, node_index=0),\n",
       " NodeRef(way_id=774909443, node_index=5)}"
      ]
     },
     "execution_count": 18,
     "metadata": {},
     "output_type": "execute_result"
    }
   ],
   "source": [
    "street_edge_provider.osm_data.node_refs[way.nds[5]]"
   ]
  },
  {
   "cell_type": "code",
   "execution_count": 19,
   "metadata": {},
   "outputs": [
    {
     "data": {
      "text/plain": [
       "SegmentRef(way_id=774909443, segment_index=1)"
      ]
     },
     "execution_count": 19,
     "metadata": {},
     "output_type": "execute_result"
    }
   ],
   "source": [
    "v0.segment_ref"
   ]
  },
  {
   "cell_type": "code",
   "execution_count": 20,
   "metadata": {},
   "outputs": [
    {
     "data": {
      "text/plain": [
       "0"
      ]
     },
     "execution_count": 20,
     "metadata": {},
     "output_type": "execute_result"
    }
   ],
   "source": [
    "street_edge_provider.osm_data.adj_vertex_node(NodeRef(v0.segment_ref.way_id, 1), search_forward=False)"
   ]
  },
  {
   "cell_type": "code",
   "execution_count": 21,
   "metadata": {},
   "outputs": [],
   "source": [
    "seg_start = 1\n",
    "seg_end = 0"
   ]
  },
  {
   "cell_type": "code",
   "execution_count": 22,
   "metadata": {},
   "outputs": [
    {
     "data": {
      "text/plain": [
       "[5797734026, 5797733850, 5797733851, 5797733852, 5797733953, 5797734025]"
      ]
     },
     "execution_count": 22,
     "metadata": {},
     "output_type": "execute_result"
    }
   ],
   "source": [
    "way.nds"
   ]
  },
  {
   "cell_type": "code",
   "execution_count": 23,
   "metadata": {},
   "outputs": [
    {
     "data": {
      "text/plain": [
       "[5797733850, 5797734026]"
      ]
     },
     "execution_count": 23,
     "metadata": {},
     "output_type": "execute_result"
    }
   ],
   "source": [
    "way.nds[seg_start: None: -1]"
   ]
  },
  {
   "cell_type": "code",
   "execution_count": 24,
   "metadata": {},
   "outputs": [
    {
     "data": {
      "text/plain": [
       "[Edge(vertex=StreetNodeVertex(5797734025, 2023-04-19 13:01:59.235587877-07:00), weight=69.0153025031656),\n",
       " Edge(vertex=StreetNodeVertex(5797734026, 2023-04-19 13:01:46.456623367-07:00), weight=56.236337993785625)]"
      ]
     },
     "execution_count": 24,
     "metadata": {},
     "output_type": "execute_result"
    }
   ],
   "source": [
    "edges = street_edge_provider.outgoing(v0)\n",
    "edges"
   ]
  },
  {
   "cell_type": "code",
   "execution_count": 25,
   "metadata": {},
   "outputs": [
    {
     "data": {
      "text/plain": [
       "[Edge(vertex=StreetNodeVertex(5797734026, 2023-04-19 13:04:04.487228373-07:00), weight=125.25164049695098),\n",
       " Edge(vertex=StreetNodeVertex(5797733955, 2023-04-19 13:04:57.860111873-07:00), weight=53.37288350041744)]"
      ]
     },
     "execution_count": 25,
     "metadata": {},
     "output_type": "execute_result"
    }
   ],
   "source": [
    "edges = street_edge_provider.outgoing( edges[0].vertex )\n",
    "edges"
   ]
  },
  {
   "cell_type": "code",
   "execution_count": 26,
   "metadata": {},
   "outputs": [
    {
     "data": {
      "text/plain": [
       "[Edge(vertex=StreetNodeVertex(5797734025, 2023-04-19 13:05:51.232995373-07:00), weight=53.37288350041742),\n",
       " Edge(vertex=StreetNodeVertex(5797733965, 2023-04-19 13:07:21.984013803-07:00), weight=90.75101843063389)]"
      ]
     },
     "execution_count": 26,
     "metadata": {},
     "output_type": "execute_result"
    }
   ],
   "source": [
    "edges = street_edge_provider.outgoing( edges[1].vertex )\n",
    "edges"
   ]
  },
  {
   "cell_type": "code",
   "execution_count": 27,
   "metadata": {},
   "outputs": [
    {
     "data": {
      "text/plain": [
       "[Edge(vertex=StreetNodeVertex(5797734026, 1970-01-01 00:02:05.251640496), weight=125.25164049695098),\n",
       " Edge(vertex=StreetNodeVertex(5797733955, 1970-01-01 00:02:58.624523996), weight=53.37288350041744)]"
      ]
     },
     "execution_count": 27,
     "metadata": {},
     "output_type": "execute_result"
    }
   ],
   "source": [
    "street_edge_provider.outgoing( StreetNodeVertex(5797734025, pd.Timestamp(0)) )"
   ]
  },
  {
   "cell_type": "code",
   "execution_count": 28,
   "metadata": {},
   "outputs": [
    {
     "data": {
      "text/plain": [
       "[Edge(vertex=StreetNodeVertex(5797734025, 1970-01-01 00:00:53.372883500), weight=53.37288350041742),\n",
       " Edge(vertex=StreetNodeVertex(5797733965, 1970-01-01 00:02:24.123901930), weight=90.75101843063389)]"
      ]
     },
     "execution_count": 28,
     "metadata": {},
     "output_type": "execute_result"
    }
   ],
   "source": [
    "street_edge_provider.outgoing( StreetNodeVertex(5797733955, pd.Timestamp(0)) )"
   ]
  },
  {
   "cell_type": "code",
   "execution_count": 29,
   "metadata": {},
   "outputs": [
    {
     "data": {
      "text/plain": [
       "[Edge(vertex=StreetNodeVertex(5797734025, 1970-01-01 00:02:05.251640496), weight=125.25164049695098),\n",
       " Edge(vertex=StreetNodeVertex(5797733849, 1970-01-01 00:02:12.271282712), weight=7.019642216331847)]"
      ]
     },
     "execution_count": 29,
     "metadata": {},
     "output_type": "execute_result"
    }
   ],
   "source": [
    "street_edge_provider.outgoing( StreetNodeVertex(5797734026, pd.Timestamp(0)) )\n"
   ]
  },
  {
   "cell_type": "code",
   "execution_count": 30,
   "metadata": {},
   "outputs": [],
   "source": [
    "tscep = TransitStreetConnectionEdgeProvider(feed, elev_dataset)"
   ]
  },
  {
   "cell_type": "code",
   "execution_count": 33,
   "metadata": {},
   "outputs": [
    {
     "data": {
      "text/plain": [
       "{1000: SegmentLinearRef(segment=SegmentRef(way_id=473558836, segment_index=28), offset=0.29250983596728247),\n",
       " 1001: SegmentLinearRef(segment=SegmentRef(way_id=472328220, segment_index=0), offset=0.33915121469449744),\n",
       " 1002: SegmentLinearRef(segment=SegmentRef(way_id=677196775, segment_index=66), offset=0.24948472809560712),\n",
       " 1003: SegmentLinearRef(segment=SegmentRef(way_id=539970409, segment_index=3), offset=0.24026195355549523),\n",
       " 1004: SegmentLinearRef(segment=SegmentRef(way_id=539970409, segment_index=23), offset=0.4409747071379484),\n",
       " 1005: SegmentLinearRef(segment=SegmentRef(way_id=507164614, segment_index=1), offset=0.1044430239723453),\n",
       " 1006: SegmentLinearRef(segment=SegmentRef(way_id=10587388, segment_index=77), offset=0.7132379397245869),\n",
       " 1007: SegmentLinearRef(segment=SegmentRef(way_id=10587388, segment_index=60), offset=0.2209499948459727),\n",
       " 1008: SegmentLinearRef(segment=SegmentRef(way_id=10587388, segment_index=27), offset=0.48134267485632265),\n",
       " 1009: SegmentLinearRef(segment=SegmentRef(way_id=10590528, segment_index=55), offset=0.19595790955383843),\n",
       " 1010: SegmentLinearRef(segment=SegmentRef(way_id=566804767, segment_index=1), offset=0.5290696478358876),\n",
       " 1011: SegmentLinearRef(segment=SegmentRef(way_id=10590528, segment_index=31), offset=0.5399515929101901),\n",
       " 1012: SegmentLinearRef(segment=SegmentRef(way_id=664845513, segment_index=55), offset=0.8675651838894941),\n",
       " 1013: SegmentLinearRef(segment=SegmentRef(way_id=664845513, segment_index=4), offset=0.3425334837196335),\n",
       " 1014: SegmentLinearRef(segment=SegmentRef(way_id=509708590, segment_index=7), offset=0.6455410175720989),\n",
       " 1015: SegmentLinearRef(segment=SegmentRef(way_id=160680761, segment_index=1), offset=0.0715550162345038),\n",
       " 1017: SegmentLinearRef(segment=SegmentRef(way_id=503138474, segment_index=1), offset=0.0005089476493364282),\n",
       " 1018: SegmentLinearRef(segment=SegmentRef(way_id=689399209, segment_index=0), offset=0.5137377083252159),\n",
       " 1019: SegmentLinearRef(segment=SegmentRef(way_id=1083732613, segment_index=1), offset=0.8652666192656225),\n",
       " 1020: SegmentLinearRef(segment=SegmentRef(way_id=503138473, segment_index=15), offset=0.6764198387513171),\n",
       " 1021: SegmentLinearRef(segment=SegmentRef(way_id=591813945, segment_index=13), offset=0.7581917207447363),\n",
       " 1022: SegmentLinearRef(segment=SegmentRef(way_id=10596854, segment_index=0), offset=0.08471904607661056),\n",
       " 1023: SegmentLinearRef(segment=SegmentRef(way_id=10588418, segment_index=0), offset=0.9310785974217035),\n",
       " 1024: SegmentLinearRef(segment=SegmentRef(way_id=591813945, segment_index=59), offset=0.14587401649361867),\n",
       " 1025: SegmentLinearRef(segment=SegmentRef(way_id=10581190, segment_index=114), offset=0.8232481231128185),\n",
       " 1031: SegmentLinearRef(segment=SegmentRef(way_id=529652242, segment_index=13), offset=1.0),\n",
       " 1034: SegmentLinearRef(segment=SegmentRef(way_id=796373499, segment_index=17), offset=0.3875951912689623),\n",
       " 1035: SegmentLinearRef(segment=SegmentRef(way_id=10589361, segment_index=94), offset=1.0),\n",
       " 1036: SegmentLinearRef(segment=SegmentRef(way_id=10584056, segment_index=14), offset=0.7771460872003133),\n",
       " 1037: SegmentLinearRef(segment=SegmentRef(way_id=10589361, segment_index=5), offset=0.8109405847037616),\n",
       " 1038: SegmentLinearRef(segment=SegmentRef(way_id=510051627, segment_index=0), offset=0.31620774280522396),\n",
       " 1039: SegmentLinearRef(segment=SegmentRef(way_id=785286232, segment_index=21), offset=0.6229036637357114),\n",
       " 1040: SegmentLinearRef(segment=SegmentRef(way_id=444946243, segment_index=39), offset=0.1531992210410089),\n",
       " 1041: SegmentLinearRef(segment=SegmentRef(way_id=444946243, segment_index=1), offset=0.45912941157389064),\n",
       " 1042: SegmentLinearRef(segment=SegmentRef(way_id=592022224, segment_index=2), offset=0.8804922280980302),\n",
       " 1043: SegmentLinearRef(segment=SegmentRef(way_id=160680773, segment_index=16), offset=0.389647587317529),\n",
       " 1044: SegmentLinearRef(segment=SegmentRef(way_id=10586010, segment_index=25), offset=0.2182487881630014),\n",
       " 1045: SegmentLinearRef(segment=SegmentRef(way_id=503138474, segment_index=0), offset=0.865716053252205),\n",
       " 1046: SegmentLinearRef(segment=SegmentRef(way_id=160680761, segment_index=18), offset=0.9452699585776199),\n",
       " 1047: SegmentLinearRef(segment=SegmentRef(way_id=160680761, segment_index=14), offset=0.7981829583176837),\n",
       " 1048: SegmentLinearRef(segment=SegmentRef(way_id=160680761, segment_index=0), offset=0.30201838367617767),\n",
       " 1049: SegmentLinearRef(segment=SegmentRef(way_id=509708590, segment_index=7), offset=0.3648653445836562),\n",
       " 1050: SegmentLinearRef(segment=SegmentRef(way_id=664821440, segment_index=1), offset=0.14596559403106563),\n",
       " 1051: SegmentLinearRef(segment=SegmentRef(way_id=160680761, segment_index=15), offset=0.4112807160121163),\n",
       " 1100: SegmentLinearRef(segment=SegmentRef(way_id=723024003, segment_index=1), offset=0.6114927630424085),\n",
       " 1101: SegmentLinearRef(segment=SegmentRef(way_id=591153810, segment_index=2), offset=0.7879906220754332),\n",
       " 1102: SegmentLinearRef(segment=SegmentRef(way_id=591153811, segment_index=17), offset=0.16333371314929668),\n",
       " 1103: SegmentLinearRef(segment=SegmentRef(way_id=591153811, segment_index=31), offset=0.8929397859077197),\n",
       " 1104: SegmentLinearRef(segment=SegmentRef(way_id=591153811, segment_index=40), offset=0.19412776511315108),\n",
       " 1105: SegmentLinearRef(segment=SegmentRef(way_id=591153812, segment_index=17), offset=0.5940652341072978),\n",
       " 1106: SegmentLinearRef(segment=SegmentRef(way_id=591153815, segment_index=33), offset=0.08677718358037358),\n",
       " 1107: SegmentLinearRef(segment=SegmentRef(way_id=159251498, segment_index=18), offset=0.5845622332664041),\n",
       " 1108: SegmentLinearRef(segment=SegmentRef(way_id=1125071378, segment_index=13), offset=0.7510908650329103),\n",
       " 1109: SegmentLinearRef(segment=SegmentRef(way_id=711993767, segment_index=2), offset=0.9678764146542251),\n",
       " 1110: SegmentLinearRef(segment=SegmentRef(way_id=427986928, segment_index=3), offset=0.3818382583068257),\n",
       " 1111: SegmentLinearRef(segment=SegmentRef(way_id=1126428500, segment_index=10), offset=0.3548534061155789),\n",
       " 1112: SegmentLinearRef(segment=SegmentRef(way_id=1131300983, segment_index=1), offset=0.14094919756952545),\n",
       " 1113: SegmentLinearRef(segment=SegmentRef(way_id=612483945, segment_index=1), offset=0.8394302821924028),\n",
       " 1114: SegmentLinearRef(segment=SegmentRef(way_id=612483939, segment_index=2), offset=0.9483401724014138),\n",
       " 1115: SegmentLinearRef(segment=SegmentRef(way_id=723023996, segment_index=0), offset=0.7925181881896013),\n",
       " 1116: SegmentLinearRef(segment=SegmentRef(way_id=774920372, segment_index=2), offset=0.050602361030993255),\n",
       " 1400: SegmentLinearRef(segment=SegmentRef(way_id=712310704, segment_index=3), offset=0.16043193717441645),\n",
       " 1401: SegmentLinearRef(segment=SegmentRef(way_id=558791326, segment_index=0), offset=0.20443530071476876),\n",
       " 1402: SegmentLinearRef(segment=SegmentRef(way_id=1066837955, segment_index=13), offset=0.4226530573821169),\n",
       " 1403: SegmentLinearRef(segment=SegmentRef(way_id=893327391, segment_index=0), offset=0.2706396423699422),\n",
       " 1404: SegmentLinearRef(segment=SegmentRef(way_id=591153812, segment_index=18), offset=0.26727423511562337),\n",
       " 1405: SegmentLinearRef(segment=SegmentRef(way_id=591153811, segment_index=39), offset=0.7459240352233192),\n",
       " 1406: SegmentLinearRef(segment=SegmentRef(way_id=591153811, segment_index=16), offset=0.10993338545552549),\n",
       " 1407: SegmentLinearRef(segment=SegmentRef(way_id=591153810, segment_index=2), offset=0.6076289311332645),\n",
       " 1408: SegmentLinearRef(segment=SegmentRef(way_id=774920379, segment_index=16), offset=0.5997133694812742),\n",
       " 1409: SegmentLinearRef(segment=SegmentRef(way_id=774920384, segment_index=6), offset=0.727266426355151),\n",
       " 1410: SegmentLinearRef(segment=SegmentRef(way_id=1124713098, segment_index=1), offset=0.13639754411902424),\n",
       " 1411: SegmentLinearRef(segment=SegmentRef(way_id=628273948, segment_index=10), offset=0.247603309198962),\n",
       " 1412: SegmentLinearRef(segment=SegmentRef(way_id=628273948, segment_index=25), offset=0.48049299396172607),\n",
       " 1413: SegmentLinearRef(segment=SegmentRef(way_id=736702153, segment_index=8), offset=0.3329930055202584),\n",
       " 1414: SegmentLinearRef(segment=SegmentRef(way_id=736702153, segment_index=3), offset=0.2651747296118451),\n",
       " 1415: SegmentLinearRef(segment=SegmentRef(way_id=1126427721, segment_index=7), offset=0.6947265856491711),\n",
       " 1416: SegmentLinearRef(segment=SegmentRef(way_id=1125516158, segment_index=0), offset=0.3160812121901631),\n",
       " 1417: SegmentLinearRef(segment=SegmentRef(way_id=774516944, segment_index=0), offset=0.8710746937356864),\n",
       " 1418: SegmentLinearRef(segment=SegmentRef(way_id=712661540, segment_index=9), offset=0.23162234951941774),\n",
       " 1419: SegmentLinearRef(segment=SegmentRef(way_id=712661553, segment_index=12), offset=0.3579553914039524),\n",
       " 1420: SegmentLinearRef(segment=SegmentRef(way_id=712661561, segment_index=29), offset=0.6374722486147055),\n",
       " 2000: SegmentLinearRef(segment=SegmentRef(way_id=558501833, segment_index=17), offset=0.3851748516960876),\n",
       " 2001: SegmentLinearRef(segment=SegmentRef(way_id=899455696, segment_index=4), offset=0.192002896460568),\n",
       " 2002: SegmentLinearRef(segment=SegmentRef(way_id=1126085465, segment_index=0), offset=0.9064468423618721),\n",
       " 2003: SegmentLinearRef(segment=SegmentRef(way_id=689396921, segment_index=8), offset=0.6039707695208602),\n",
       " 2004: SegmentLinearRef(segment=SegmentRef(way_id=29985611, segment_index=5), offset=0.4999449846849021),\n",
       " 2005: SegmentLinearRef(segment=SegmentRef(way_id=1079917999, segment_index=1), offset=0.2640972611857006),\n",
       " 2006: SegmentLinearRef(segment=SegmentRef(way_id=707989340, segment_index=5), offset=0.48079097618052896),\n",
       " 2007: SegmentLinearRef(segment=SegmentRef(way_id=896369996, segment_index=0), offset=0.4007624455697259),\n",
       " 2008: SegmentLinearRef(segment=SegmentRef(way_id=738360128, segment_index=20), offset=0.30201491441337647),\n",
       " 2009: SegmentLinearRef(segment=SegmentRef(way_id=377725642, segment_index=24), offset=0.7116795177455473),\n",
       " 2010: SegmentLinearRef(segment=SegmentRef(way_id=1083780133, segment_index=7), offset=0.28538063776596867),\n",
       " 2011: SegmentLinearRef(segment=SegmentRef(way_id=777897175, segment_index=27), offset=0.4683300855591171),\n",
       " 2012: SegmentLinearRef(segment=SegmentRef(way_id=774517570, segment_index=0), offset=0.17906298482751828),\n",
       " 2013: SegmentLinearRef(segment=SegmentRef(way_id=774739487, segment_index=25), offset=0.5494901079739144),\n",
       " 2014: SegmentLinearRef(segment=SegmentRef(way_id=774518050, segment_index=3), offset=0.1923483683616591),\n",
       " 2015: SegmentLinearRef(segment=SegmentRef(way_id=774518683, segment_index=2), offset=0.6322218277188586),\n",
       " 2016: SegmentLinearRef(segment=SegmentRef(way_id=459416572, segment_index=0), offset=0.7668215800371946),\n",
       " 2017: SegmentLinearRef(segment=SegmentRef(way_id=10589071, segment_index=2), offset=0.1625074680822455),\n",
       " 2018: SegmentLinearRef(segment=SegmentRef(way_id=10590922, segment_index=2), offset=0.2877148988802125),\n",
       " 2019: SegmentLinearRef(segment=SegmentRef(way_id=783791840, segment_index=7), offset=0.6897203373056756),\n",
       " 2020: SegmentLinearRef(segment=SegmentRef(way_id=783791837, segment_index=0), offset=0.4736482488309475),\n",
       " 2021: SegmentLinearRef(segment=SegmentRef(way_id=10590922, segment_index=53), offset=0.9727408279475883),\n",
       " 2022: SegmentLinearRef(segment=SegmentRef(way_id=503142300, segment_index=12), offset=0.18577569247576348),\n",
       " 2023: SegmentLinearRef(segment=SegmentRef(way_id=932368062, segment_index=0), offset=0.10730826719358337),\n",
       " 2024: SegmentLinearRef(segment=SegmentRef(way_id=1132356503, segment_index=22), offset=0.20672471557535876),\n",
       " 2025: SegmentLinearRef(segment=SegmentRef(way_id=1132356503, segment_index=135), offset=0.6172706593172315),\n",
       " 2026: SegmentLinearRef(segment=SegmentRef(way_id=503139304, segment_index=22), offset=0.5469175377681793),\n",
       " 2027: SegmentLinearRef(segment=SegmentRef(way_id=778234178, segment_index=0), offset=0.3559963235887405),\n",
       " 2028: SegmentLinearRef(segment=SegmentRef(way_id=776663569, segment_index=7), offset=0.8558064820863631),\n",
       " 2029: SegmentLinearRef(segment=SegmentRef(way_id=774741633, segment_index=6), offset=0.16164737343806326),\n",
       " 2030: SegmentLinearRef(segment=SegmentRef(way_id=774518061, segment_index=6), offset=0.636834074665081),\n",
       " 2031: SegmentLinearRef(segment=SegmentRef(way_id=774730410, segment_index=15), offset=0.6035959613398675),\n",
       " 2032: SegmentLinearRef(segment=SegmentRef(way_id=774517749, segment_index=25), offset=0.541024599628553),\n",
       " 2033: SegmentLinearRef(segment=SegmentRef(way_id=774517786, segment_index=39), offset=0.7693323447931008),\n",
       " 2034: SegmentLinearRef(segment=SegmentRef(way_id=774517797, segment_index=1), offset=0.8729062063004227),\n",
       " 2035: SegmentLinearRef(segment=SegmentRef(way_id=774517881, segment_index=0), offset=0.7870346172707989),\n",
       " 2036: SegmentLinearRef(segment=SegmentRef(way_id=782611439, segment_index=19), offset=0.5150018660584814),\n",
       " 2037: SegmentLinearRef(segment=SegmentRef(way_id=774517723, segment_index=26), offset=0.8181886690458696),\n",
       " 2038: SegmentLinearRef(segment=SegmentRef(way_id=1125302273, segment_index=1), offset=0.9358359308977009),\n",
       " 2039: SegmentLinearRef(segment=SegmentRef(way_id=503135710, segment_index=0), offset=0.8807113125364648),\n",
       " 2040: SegmentLinearRef(segment=SegmentRef(way_id=503135710, segment_index=8), offset=0.5765595097666123),\n",
       " 2041: SegmentLinearRef(segment=SegmentRef(way_id=503135710, segment_index=18), offset=0.7634647256551709),\n",
       " 2042: SegmentLinearRef(segment=SegmentRef(way_id=503139304, segment_index=22), offset=0.6979868370235242),\n",
       " 2043: SegmentLinearRef(segment=SegmentRef(way_id=10586622, segment_index=0), offset=0.9534556167929825),\n",
       " 2044: SegmentLinearRef(segment=SegmentRef(way_id=1133750692, segment_index=3), offset=0.0717643574807324),\n",
       " 2045: SegmentLinearRef(segment=SegmentRef(way_id=778202355, segment_index=24), offset=0.022516503641175318),\n",
       " 2046: SegmentLinearRef(segment=SegmentRef(way_id=777663111, segment_index=0), offset=0.19762901531828353),\n",
       " 2047: SegmentLinearRef(segment=SegmentRef(way_id=783791835, segment_index=0), offset=0.5641354905696003),\n",
       " 2048: SegmentLinearRef(segment=SegmentRef(way_id=10590922, segment_index=46), offset=0.24468791215354282),\n",
       " 2049: SegmentLinearRef(segment=SegmentRef(way_id=10590922, segment_index=13), offset=0.9173697143130433),\n",
       " 2050: SegmentLinearRef(segment=SegmentRef(way_id=10590922, segment_index=2), offset=0.5491219011246807),\n",
       " 2051: SegmentLinearRef(segment=SegmentRef(way_id=10589071, segment_index=2), offset=0.002929624467975479),\n",
       " 2052: SegmentLinearRef(segment=SegmentRef(way_id=758486471, segment_index=0), offset=0.9866972840249365),\n",
       " 2053: SegmentLinearRef(segment=SegmentRef(way_id=503735715, segment_index=0), offset=0.7741384944300731),\n",
       " 3000: SegmentLinearRef(segment=SegmentRef(way_id=10576405, segment_index=0), offset=0.14807867400604283),\n",
       " 3001: SegmentLinearRef(segment=SegmentRef(way_id=689396932, segment_index=10), offset=0.29275584651725434),\n",
       " 3002: SegmentLinearRef(segment=SegmentRef(way_id=10595883, segment_index=4), offset=0.19080894757012498),\n",
       " 3003: SegmentLinearRef(segment=SegmentRef(way_id=160680822, segment_index=3), offset=0.2014140801866746),\n",
       " 3004: SegmentLinearRef(segment=SegmentRef(way_id=10585612, segment_index=0), offset=0.16775710177406508),\n",
       " 3005: SegmentLinearRef(segment=SegmentRef(way_id=1083957946, segment_index=0), offset=0.44019480782402265),\n",
       " 3006: SegmentLinearRef(segment=SegmentRef(way_id=10589940, segment_index=4), offset=0.1594717322936322),\n",
       " 3007: SegmentLinearRef(segment=SegmentRef(way_id=10589940, segment_index=2), offset=0.0528455674375258),\n",
       " 3008: SegmentLinearRef(segment=SegmentRef(way_id=10587370, segment_index=4), offset=0.4477512733678985),\n",
       " 3009: SegmentLinearRef(segment=SegmentRef(way_id=1004230943, segment_index=2), offset=0.8002969493311177),\n",
       " 3010: SegmentLinearRef(segment=SegmentRef(way_id=159254464, segment_index=16), offset=0.28326828189543113),\n",
       " 3011: SegmentLinearRef(segment=SegmentRef(way_id=758487290, segment_index=1), offset=0.13952544931818597),\n",
       " 3012: SegmentLinearRef(segment=SegmentRef(way_id=10580948, segment_index=1), offset=0.07984060900928763),\n",
       " 3013: SegmentLinearRef(segment=SegmentRef(way_id=159254464, segment_index=4), offset=0.6089991201317259),\n",
       " 3014: SegmentLinearRef(segment=SegmentRef(way_id=159254464, segment_index=9), offset=0.4860181871656795),\n",
       " 3015: SegmentLinearRef(segment=SegmentRef(way_id=159254464, segment_index=13), offset=0.3202057607212283),\n",
       " 3016: SegmentLinearRef(segment=SegmentRef(way_id=159254464, segment_index=15), offset=0.8796544798405725),\n",
       " 3017: SegmentLinearRef(segment=SegmentRef(way_id=10593440, segment_index=3), offset=0.6082132514347982),\n",
       " 3018: SegmentLinearRef(segment=SegmentRef(way_id=696141324, segment_index=8), offset=0.1896974208195606),\n",
       " 3019: SegmentLinearRef(segment=SegmentRef(way_id=894234645, segment_index=4), offset=0.6881993163794866),\n",
       " 3020: SegmentLinearRef(segment=SegmentRef(way_id=10591436, segment_index=3), offset=0.5648934421599623),\n",
       " 3021: SegmentLinearRef(segment=SegmentRef(way_id=894462202, segment_index=4), offset=0.6026334102182629),\n",
       " 3022: SegmentLinearRef(segment=SegmentRef(way_id=363908039, segment_index=0), offset=0.7425034358137574),\n",
       " 3023: SegmentLinearRef(segment=SegmentRef(way_id=781263190, segment_index=0), offset=0.5245630877206352),\n",
       " 3024: SegmentLinearRef(segment=SegmentRef(way_id=781263190, segment_index=2), offset=0.9451389407958157),\n",
       " 3025: SegmentLinearRef(segment=SegmentRef(way_id=1125961578, segment_index=5), offset=0.28274975605118974),\n",
       " 3026: SegmentLinearRef(segment=SegmentRef(way_id=1125961166, segment_index=1), offset=0.8326851105921999),\n",
       " 3027: SegmentLinearRef(segment=SegmentRef(way_id=1125961177, segment_index=1), offset=0.5355643734110975),\n",
       " 3028: SegmentLinearRef(segment=SegmentRef(way_id=160680750, segment_index=0), offset=0.5386166995673215),\n",
       " 3029: SegmentLinearRef(segment=SegmentRef(way_id=160680750, segment_index=3), offset=0.21470596142101409),\n",
       " 3030: SegmentLinearRef(segment=SegmentRef(way_id=160680750, segment_index=11), offset=0.6579931753314462),\n",
       " 3031: SegmentLinearRef(segment=SegmentRef(way_id=930514439, segment_index=1), offset=0.7726085421622123),\n",
       " 3032: SegmentLinearRef(segment=SegmentRef(way_id=689396937, segment_index=6), offset=1.0),\n",
       " 4000: SegmentLinearRef(segment=SegmentRef(way_id=894247723, segment_index=1), offset=0.43882473254082244),\n",
       " 4001: SegmentLinearRef(segment=SegmentRef(way_id=774915457, segment_index=0), offset=0.9782906635879307),\n",
       " 4002: SegmentLinearRef(segment=SegmentRef(way_id=774517947, segment_index=4), offset=0.8850363862350166),\n",
       " 4003: SegmentLinearRef(segment=SegmentRef(way_id=774938633, segment_index=4), offset=0.6877329334106285),\n",
       " 4004: SegmentLinearRef(segment=SegmentRef(way_id=775181393, segment_index=55), offset=0.34875878163739393),\n",
       " 4005: SegmentLinearRef(segment=SegmentRef(way_id=565194036, segment_index=131), offset=0.5888525749119853),\n",
       " 4006: SegmentLinearRef(segment=SegmentRef(way_id=1131300988, segment_index=16), offset=0.4676029177614265),\n",
       " 4007: SegmentLinearRef(segment=SegmentRef(way_id=1131309630, segment_index=10), offset=0.35035841810107227),\n",
       " 4008: SegmentLinearRef(segment=SegmentRef(way_id=759182025, segment_index=12), offset=0.7504767536972904),\n",
       " 4009: SegmentLinearRef(segment=SegmentRef(way_id=1131309627, segment_index=27), offset=0.8535941443775275),\n",
       " 4010: SegmentLinearRef(segment=SegmentRef(way_id=759182025, segment_index=1), offset=0.37765621950059036),\n",
       " 4011: SegmentLinearRef(segment=SegmentRef(way_id=1067197628, segment_index=18), offset=0.4385666954607429),\n",
       " 4012: SegmentLinearRef(segment=SegmentRef(way_id=25826664, segment_index=24), offset=0.4037201823899235),\n",
       " 4013: SegmentLinearRef(segment=SegmentRef(way_id=25826664, segment_index=17), offset=0.5035647594018874),\n",
       " 4014: SegmentLinearRef(segment=SegmentRef(way_id=25826664, segment_index=0), offset=0.5926316113385042),\n",
       " 4015: SegmentLinearRef(segment=SegmentRef(way_id=1066700079, segment_index=1), offset=0.557695945088104),\n",
       " 4017: SegmentLinearRef(segment=SegmentRef(way_id=777427483, segment_index=3), offset=0.8223222033683583),\n",
       " 4018: SegmentLinearRef(segment=SegmentRef(way_id=200584393, segment_index=40), offset=0.3452218886858068),\n",
       " 4019: SegmentLinearRef(segment=SegmentRef(way_id=200584393, segment_index=28), offset=0.5492939310332543),\n",
       " 4020: SegmentLinearRef(segment=SegmentRef(way_id=1131268635, segment_index=5), offset=0.75062849369647),\n",
       " 4021: SegmentLinearRef(segment=SegmentRef(way_id=1131309611, segment_index=5), offset=0.3551982986203711),\n",
       " 4022: SegmentLinearRef(segment=SegmentRef(way_id=1126379226, segment_index=8), offset=0.4875611430738822),\n",
       " 4023: SegmentLinearRef(segment=SegmentRef(way_id=1126379224, segment_index=13), offset=0.8774383096431232),\n",
       " 4024: SegmentLinearRef(segment=SegmentRef(way_id=1131268645, segment_index=18), offset=0.543286400852033),\n",
       " 4025: SegmentLinearRef(segment=SegmentRef(way_id=1131268645, segment_index=13), offset=0.8007807335159388),\n",
       " 4026: SegmentLinearRef(segment=SegmentRef(way_id=946770000, segment_index=2), offset=0.0427195131820623),\n",
       " 4027: SegmentLinearRef(segment=SegmentRef(way_id=894247729, segment_index=8), offset=0.3131389581121321),\n",
       " 4028: SegmentLinearRef(segment=SegmentRef(way_id=10585621, segment_index=0), offset=0.8962710273047557),\n",
       " 4029: SegmentLinearRef(segment=SegmentRef(way_id=25826664, segment_index=1), offset=0.05431502295158808),\n",
       " 4030: SegmentLinearRef(segment=SegmentRef(way_id=25826664, segment_index=16), offset=0.5685701675579133),\n",
       " 4031: SegmentLinearRef(segment=SegmentRef(way_id=475457451, segment_index=0), offset=0.84613082836919),\n",
       " 4032: SegmentLinearRef(segment=SegmentRef(way_id=1137774332, segment_index=3), offset=0.6105110140734374),\n",
       " 4033: SegmentLinearRef(segment=SegmentRef(way_id=759182004, segment_index=37), offset=0.49706346920518646),\n",
       " 4034: SegmentLinearRef(segment=SegmentRef(way_id=584791936, segment_index=15), offset=0.5027673794633031),\n",
       " 4035: SegmentLinearRef(segment=SegmentRef(way_id=787264806, segment_index=20), offset=0.77331895809829),\n",
       " 4036: SegmentLinearRef(segment=SegmentRef(way_id=782903091, segment_index=0), offset=0.7138375869994422),\n",
       " 4037: SegmentLinearRef(segment=SegmentRef(way_id=774518551, segment_index=1), offset=0.8857895051446256),\n",
       " 4038: SegmentLinearRef(segment=SegmentRef(way_id=1134197939, segment_index=6), offset=0.2469303248317942),\n",
       " 4039: SegmentLinearRef(segment=SegmentRef(way_id=509744948, segment_index=0), offset=0.3414468152486167),\n",
       " 4040: SegmentLinearRef(segment=SegmentRef(way_id=894247725, segment_index=0), offset=0.6352147414917203),\n",
       " 4041: SegmentLinearRef(segment=SegmentRef(way_id=774517757, segment_index=5), offset=0.6603244512885649),\n",
       " 4042: SegmentLinearRef(segment=SegmentRef(way_id=774517658, segment_index=18), offset=0.10888715706268984),\n",
       " 5000: SegmentLinearRef(segment=SegmentRef(way_id=775676249, segment_index=4), offset=0.6895715891109724),\n",
       " 5001: SegmentLinearRef(segment=SegmentRef(way_id=894257410, segment_index=2), offset=0.5841340346901527),\n",
       " 5002: SegmentLinearRef(segment=SegmentRef(way_id=712719280, segment_index=5), offset=0.5984376085605716),\n",
       " 5003: SegmentLinearRef(segment=SegmentRef(way_id=712719253, segment_index=4), offset=0.3541553144400066),\n",
       " 5004: SegmentLinearRef(segment=SegmentRef(way_id=899427335, segment_index=17), offset=0.9175766044864346),\n",
       " 5005: SegmentLinearRef(segment=SegmentRef(way_id=1125492098, segment_index=1), offset=0.5378174503840034),\n",
       " 5006: SegmentLinearRef(segment=SegmentRef(way_id=427986931, segment_index=10), offset=0.7133777591916858),\n",
       " 5007: SegmentLinearRef(segment=SegmentRef(way_id=1131299983, segment_index=4), offset=0.842931429999119),\n",
       " 5008: SegmentLinearRef(segment=SegmentRef(way_id=723018390, segment_index=34), offset=0.602767902364819),\n",
       " 5009: SegmentLinearRef(segment=SegmentRef(way_id=1067197628, segment_index=4), offset=0.10565216041353455),\n",
       " 5010: SegmentLinearRef(segment=SegmentRef(way_id=1137774332, segment_index=12), offset=0.47117856362154953),\n",
       " 5011: SegmentLinearRef(segment=SegmentRef(way_id=32903112, segment_index=20), offset=0.6318929559320555),\n",
       " 5012: SegmentLinearRef(segment=SegmentRef(way_id=32903112, segment_index=28), offset=0.5106176688024425),\n",
       " 5013: SegmentLinearRef(segment=SegmentRef(way_id=784365364, segment_index=5), offset=1.0),\n",
       " 5014: SegmentLinearRef(segment=SegmentRef(way_id=942761772, segment_index=0), offset=0.3962069204613282),\n",
       " 5015: SegmentLinearRef(segment=SegmentRef(way_id=974029259, segment_index=0), offset=0.5826010705356249),\n",
       " 5016: SegmentLinearRef(segment=SegmentRef(way_id=659847040, segment_index=0), offset=0.34315053952868996),\n",
       " 5017: SegmentLinearRef(segment=SegmentRef(way_id=659847055, segment_index=2), offset=0.5928021020368006),\n",
       " 5018: SegmentLinearRef(segment=SegmentRef(way_id=1135474239, segment_index=22), offset=0.6486250107640912),\n",
       " 5019: SegmentLinearRef(segment=SegmentRef(way_id=1135472034, segment_index=98), offset=0.10862814516056296),\n",
       " 5020: SegmentLinearRef(segment=SegmentRef(way_id=1135317015, segment_index=103), offset=0.37443791505177576),\n",
       " 5021: SegmentLinearRef(segment=SegmentRef(way_id=1135317015, segment_index=4), offset=0.6873593495706404),\n",
       " 5022: SegmentLinearRef(segment=SegmentRef(way_id=32903112, segment_index=33), offset=0.9214547891580323),\n",
       " 5023: SegmentLinearRef(segment=SegmentRef(way_id=32903112, segment_index=28), offset=0.5049848479859677),\n",
       " 5024: SegmentLinearRef(segment=SegmentRef(way_id=32903112, segment_index=16), offset=0.6453793983800372),\n",
       " 5025: SegmentLinearRef(segment=SegmentRef(way_id=32903112, segment_index=9), offset=0.8510531573747421),\n",
       " 5026: SegmentLinearRef(segment=SegmentRef(way_id=985655053, segment_index=1), offset=0.47254382756910984),\n",
       " 5027: SegmentLinearRef(segment=SegmentRef(way_id=30660742, segment_index=2), offset=0.4221486744385479),\n",
       " 5028: SegmentLinearRef(segment=SegmentRef(way_id=1131268638, segment_index=3), offset=0.5093565078949064),\n",
       " 5029: SegmentLinearRef(segment=SegmentRef(way_id=1125492086, segment_index=3), offset=0.16020602216370824),\n",
       " 5030: SegmentLinearRef(segment=SegmentRef(way_id=427986934, segment_index=8), offset=0.12142901129179756),\n",
       " 5031: SegmentLinearRef(segment=SegmentRef(way_id=899427336, segment_index=3), offset=0.2872004389693952),\n",
       " 5032: SegmentLinearRef(segment=SegmentRef(way_id=712719240, segment_index=19), offset=0.9200030220507781),\n",
       " 5033: SegmentLinearRef(segment=SegmentRef(way_id=712703882, segment_index=0), offset=0.6917726441113407),\n",
       " 5034: SegmentLinearRef(segment=SegmentRef(way_id=712719272, segment_index=13), offset=0.3750129067791522),\n",
       " 5035: SegmentLinearRef(segment=SegmentRef(way_id=184549564, segment_index=6), offset=0.5951314041778003),\n",
       " 6000: SegmentLinearRef(segment=SegmentRef(way_id=723033548, segment_index=8), offset=0.6821757518879349),\n",
       " 6001: SegmentLinearRef(segment=SegmentRef(way_id=774518610, segment_index=12), offset=1.0),\n",
       " 6002: SegmentLinearRef(segment=SegmentRef(way_id=542426293, segment_index=1), offset=0.6906407582328766),\n",
       " 6003: SegmentLinearRef(segment=SegmentRef(way_id=542426293, segment_index=14), offset=0.5842267333647101),\n",
       " 6004: SegmentLinearRef(segment=SegmentRef(way_id=542426293, segment_index=22), offset=0.16966029774632357),\n",
       " 6005: SegmentLinearRef(segment=SegmentRef(way_id=503138468, segment_index=1), offset=0.15400787140912212),\n",
       " 6006: SegmentLinearRef(segment=SegmentRef(way_id=10571243, segment_index=2), offset=0.9792295972432986),\n",
       " 6007: SegmentLinearRef(segment=SegmentRef(way_id=503138467, segment_index=15), offset=0.3744889976997433),\n",
       " 6008: SegmentLinearRef(segment=SegmentRef(way_id=553897986, segment_index=7), offset=0.634094059907531),\n",
       " 6009: SegmentLinearRef(segment=SegmentRef(way_id=10594569, segment_index=2), offset=0.3156401642320782),\n",
       " 6010: SegmentLinearRef(segment=SegmentRef(way_id=542426293, segment_index=41), offset=0.7633163148499896),\n",
       " 6011: SegmentLinearRef(segment=SegmentRef(way_id=542426293, segment_index=20), offset=0.5660350108997555),\n",
       " 6012: SegmentLinearRef(segment=SegmentRef(way_id=542426293, segment_index=7), offset=0.640866760570199),\n",
       " 6013: SegmentLinearRef(segment=SegmentRef(way_id=1134197918, segment_index=2), offset=0.29795097694247874),\n",
       " 6014: SegmentLinearRef(segment=SegmentRef(way_id=25823672, segment_index=3), offset=0.08354053599447585),\n",
       " 6015: SegmentLinearRef(segment=SegmentRef(way_id=591142843, segment_index=2), offset=0.1299777588333679),\n",
       " 6016: SegmentLinearRef(segment=SegmentRef(way_id=801545402, segment_index=0), offset=0.633938292756942),\n",
       " 6017: SegmentLinearRef(segment=SegmentRef(way_id=801545402, segment_index=3), offset=0.7782809116130429),\n",
       " 6018: SegmentLinearRef(segment=SegmentRef(way_id=801545402, segment_index=30), offset=0.1060425925157984),\n",
       " 6019: SegmentLinearRef(segment=SegmentRef(way_id=217068202, segment_index=2), offset=0.6173288965994214),\n",
       " 6020: SegmentLinearRef(segment=SegmentRef(way_id=894484662, segment_index=20), offset=0.5926349468033318),\n",
       " 6021: SegmentLinearRef(segment=SegmentRef(way_id=591143911, segment_index=26), offset=0.6497629075874697),\n",
       " 6022: SegmentLinearRef(segment=SegmentRef(way_id=591143911, segment_index=21), offset=0.5169099005995907),\n",
       " 6023: SegmentLinearRef(segment=SegmentRef(way_id=591143911, segment_index=0), offset=0.3889840166137298),\n",
       " 6024: SegmentLinearRef(segment=SegmentRef(way_id=491471033, segment_index=1), offset=0.4076549901693583),\n",
       " 6025: SegmentLinearRef(segment=SegmentRef(way_id=616538557, segment_index=31), offset=0.428659304507002),\n",
       " 6026: SegmentLinearRef(segment=SegmentRef(way_id=616538557, segment_index=25), offset=0.14179437645040793),\n",
       " 6027: SegmentLinearRef(segment=SegmentRef(way_id=616538557, segment_index=21), offset=0.2102748000804558),\n",
       " 6028: SegmentLinearRef(segment=SegmentRef(way_id=616538557, segment_index=11), offset=0.8132027399519692),\n",
       " 6029: SegmentLinearRef(segment=SegmentRef(way_id=894267531, segment_index=1), offset=0.2226555732855504),\n",
       " 6030: SegmentLinearRef(segment=SegmentRef(way_id=591144476, segment_index=12), offset=0.48697597675874693),\n",
       " 6031: SegmentLinearRef(segment=SegmentRef(way_id=801545402, segment_index=2), offset=0.937841127081046),\n",
       " 6032: SegmentLinearRef(segment=SegmentRef(way_id=591142847, segment_index=1), offset=0.8801726985804869),\n",
       " 6033: SegmentLinearRef(segment=SegmentRef(way_id=10583943, segment_index=9), offset=0.2596711440699382),\n",
       " 6034: SegmentLinearRef(segment=SegmentRef(way_id=1061426379, segment_index=3), offset=0.48128863538090283),\n",
       " 7000: SegmentLinearRef(segment=SegmentRef(way_id=774739481, segment_index=0), offset=0.7164895255340223),\n",
       " 7001: SegmentLinearRef(segment=SegmentRef(way_id=1125071385, segment_index=1), offset=0.23900587238238846),\n",
       " 7002: SegmentLinearRef(segment=SegmentRef(way_id=1125071392, segment_index=9), offset=0.48142477580809523),\n",
       " 7003: SegmentLinearRef(segment=SegmentRef(way_id=591149135, segment_index=9), offset=0.5924826356643742),\n",
       " 7004: SegmentLinearRef(segment=SegmentRef(way_id=560979943, segment_index=4), offset=0.3050011097852059),\n",
       " 7005: SegmentLinearRef(segment=SegmentRef(way_id=10593270, segment_index=1), offset=0.16710484415352467),\n",
       " 7006: SegmentLinearRef(segment=SegmentRef(way_id=510015318, segment_index=0), offset=0.33178619830227213),\n",
       " 7007: SegmentLinearRef(segment=SegmentRef(way_id=510034437, segment_index=0), offset=0.6178394408995563),\n",
       " 7008: SegmentLinearRef(segment=SegmentRef(way_id=560989620, segment_index=0), offset=1.0),\n",
       " 7009: SegmentLinearRef(segment=SegmentRef(way_id=10587388, segment_index=29), offset=0.8397024769527871),\n",
       " 7010: SegmentLinearRef(segment=SegmentRef(way_id=10587388, segment_index=57), offset=0.31693650984428734),\n",
       " 7011: SegmentLinearRef(segment=SegmentRef(way_id=539970411, segment_index=26), offset=1.0),\n",
       " 7012: SegmentLinearRef(segment=SegmentRef(way_id=539970409, segment_index=23), offset=0.26787166779298827),\n",
       " 7013: SegmentLinearRef(segment=SegmentRef(way_id=10591097, segment_index=29), offset=0.7583530359739726),\n",
       " 7014: SegmentLinearRef(segment=SegmentRef(way_id=10591097, segment_index=10), offset=0.3797322355006852),\n",
       " 7015: SegmentLinearRef(segment=SegmentRef(way_id=376249121, segment_index=1), offset=0.5561195722536035),\n",
       " 7016: SegmentLinearRef(segment=SegmentRef(way_id=893327391, segment_index=32), offset=0.9042248992963987),\n",
       " 8001: SegmentLinearRef(segment=SegmentRef(way_id=160680826, segment_index=6), offset=0.7886242688275952),\n",
       " 8002: SegmentLinearRef(segment=SegmentRef(way_id=10576405, segment_index=0), offset=0.11131870472679607),\n",
       " 8003: SegmentLinearRef(segment=SegmentRef(way_id=491471033, segment_index=1), offset=0.29969782674447965),\n",
       " 8004: SegmentLinearRef(segment=SegmentRef(way_id=1087425967, segment_index=0), offset=0.7809663320315912),\n",
       " 8008: SegmentLinearRef(segment=SegmentRef(way_id=10590676, segment_index=3), offset=0.7156125144239835),\n",
       " 8009: SegmentLinearRef(segment=SegmentRef(way_id=10581264, segment_index=1), offset=0.6875102256086256),\n",
       " 8010: SegmentLinearRef(segment=SegmentRef(way_id=219936866, segment_index=54), offset=0.38319146479825733),\n",
       " 8011: SegmentLinearRef(segment=SegmentRef(way_id=1133360210, segment_index=20), offset=0.4209563710362705),\n",
       " 8012: SegmentLinearRef(segment=SegmentRef(way_id=1133168411, segment_index=20), offset=0.365032140380544),\n",
       " 8013: SegmentLinearRef(segment=SegmentRef(way_id=237443168, segment_index=3), offset=0.38607518797713786),\n",
       " 8014: SegmentLinearRef(segment=SegmentRef(way_id=185333041, segment_index=73), offset=0.3534836977958855),\n",
       " 8016: SegmentLinearRef(segment=SegmentRef(way_id=185333041, segment_index=73), offset=0.9265482912589097),\n",
       " 8018: SegmentLinearRef(segment=SegmentRef(way_id=10589331, segment_index=0), offset=0.0),\n",
       " 9018: SegmentLinearRef(segment=SegmentRef(way_id=10580639, segment_index=18), offset=1.0),\n",
       " 9019: SegmentLinearRef(segment=SegmentRef(way_id=656141735, segment_index=7), offset=0.3433134769117339),\n",
       " 9020: SegmentLinearRef(segment=SegmentRef(way_id=10580639, segment_index=7), offset=0.427763098235341),\n",
       " 9021: SegmentLinearRef(segment=SegmentRef(way_id=10580639, segment_index=18), offset=1.0)}"
      ]
     },
     "execution_count": 33,
     "metadata": {},
     "output_type": "execute_result"
    }
   ],
   "source": [
    "tscep.stop_to_seg"
   ]
  },
  {
   "cell_type": "code",
   "execution_count": null,
   "metadata": {},
   "outputs": [],
   "source": []
  }
 ],
 "metadata": {
  "kernelspec": {
   "display_name": "venv",
   "language": "python",
   "name": "python3"
  },
  "language_info": {
   "codemirror_mode": {
    "name": "ipython",
    "version": 3
   },
   "file_extension": ".py",
   "mimetype": "text/x-python",
   "name": "python",
   "nbconvert_exporter": "python",
   "pygments_lexer": "ipython3",
   "version": "3.11.3"
  },
  "orig_nbformat": 4
 },
 "nbformat": 4,
 "nbformat_minor": 2
}
